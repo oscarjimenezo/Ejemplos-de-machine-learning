{
 "cells": [
  {
   "cell_type": "markdown",
   "metadata": {},
   "source": [
    "### 1. Abre el conjunto de datos de la actividad de la semana anterior con ayuda de la librería Pandas."
   ]
  },
  {
   "cell_type": "code",
   "execution_count": 118,
   "metadata": {},
   "outputs": [],
   "source": [
    "%config IPCompleter.greedy=True\n",
    "import pandas as pd\n",
    "import numpy as np\n",
    "data = pd.read_csv(\"insurance_clean.csv\")"
   ]
  },
  {
   "cell_type": "code",
   "execution_count": 119,
   "metadata": {},
   "outputs": [
    {
     "data": {
      "text/html": [
       "<div>\n",
       "<style scoped>\n",
       "    .dataframe tbody tr th:only-of-type {\n",
       "        vertical-align: middle;\n",
       "    }\n",
       "\n",
       "    .dataframe tbody tr th {\n",
       "        vertical-align: top;\n",
       "    }\n",
       "\n",
       "    .dataframe thead th {\n",
       "        text-align: right;\n",
       "    }\n",
       "</style>\n",
       "<table border=\"1\" class=\"dataframe\">\n",
       "  <thead>\n",
       "    <tr style=\"text-align: right;\">\n",
       "      <th></th>\n",
       "      <th>Unnamed: 0</th>\n",
       "      <th>age</th>\n",
       "      <th>bmi</th>\n",
       "      <th>children</th>\n",
       "      <th>charges</th>\n",
       "    </tr>\n",
       "  </thead>\n",
       "  <tbody>\n",
       "    <tr>\n",
       "      <th>0</th>\n",
       "      <td>1</td>\n",
       "      <td>18</td>\n",
       "      <td>33.77</td>\n",
       "      <td>1</td>\n",
       "      <td>1725.5523</td>\n",
       "    </tr>\n",
       "    <tr>\n",
       "      <th>1</th>\n",
       "      <td>2</td>\n",
       "      <td>28</td>\n",
       "      <td>33.00</td>\n",
       "      <td>3</td>\n",
       "      <td>4449.4620</td>\n",
       "    </tr>\n",
       "    <tr>\n",
       "      <th>2</th>\n",
       "      <td>4</td>\n",
       "      <td>32</td>\n",
       "      <td>28.88</td>\n",
       "      <td>0</td>\n",
       "      <td>3866.8552</td>\n",
       "    </tr>\n",
       "    <tr>\n",
       "      <th>3</th>\n",
       "      <td>5</td>\n",
       "      <td>31</td>\n",
       "      <td>25.74</td>\n",
       "      <td>0</td>\n",
       "      <td>3756.6216</td>\n",
       "    </tr>\n",
       "    <tr>\n",
       "      <th>4</th>\n",
       "      <td>6</td>\n",
       "      <td>46</td>\n",
       "      <td>33.44</td>\n",
       "      <td>1</td>\n",
       "      <td>8240.5896</td>\n",
       "    </tr>\n",
       "  </tbody>\n",
       "</table>\n",
       "</div>"
      ],
      "text/plain": [
       "   Unnamed: 0  age    bmi  children    charges\n",
       "0           1   18  33.77         1  1725.5523\n",
       "1           2   28  33.00         3  4449.4620\n",
       "2           4   32  28.88         0  3866.8552\n",
       "3           5   31  25.74         0  3756.6216\n",
       "4           6   46  33.44         1  8240.5896"
      ]
     },
     "execution_count": 119,
     "metadata": {},
     "output_type": "execute_result"
    }
   ],
   "source": [
    "data.head()"
   ]
  },
  {
   "cell_type": "code",
   "execution_count": 120,
   "metadata": {},
   "outputs": [
    {
     "data": {
      "text/html": [
       "<div>\n",
       "<style scoped>\n",
       "    .dataframe tbody tr th:only-of-type {\n",
       "        vertical-align: middle;\n",
       "    }\n",
       "\n",
       "    .dataframe tbody tr th {\n",
       "        vertical-align: top;\n",
       "    }\n",
       "\n",
       "    .dataframe thead th {\n",
       "        text-align: right;\n",
       "    }\n",
       "</style>\n",
       "<table border=\"1\" class=\"dataframe\">\n",
       "  <thead>\n",
       "    <tr style=\"text-align: right;\">\n",
       "      <th></th>\n",
       "      <th>age</th>\n",
       "      <th>charges</th>\n",
       "    </tr>\n",
       "  </thead>\n",
       "  <tbody>\n",
       "    <tr>\n",
       "      <th>0</th>\n",
       "      <td>18</td>\n",
       "      <td>1725.5523</td>\n",
       "    </tr>\n",
       "    <tr>\n",
       "      <th>1</th>\n",
       "      <td>28</td>\n",
       "      <td>4449.4620</td>\n",
       "    </tr>\n",
       "    <tr>\n",
       "      <th>2</th>\n",
       "      <td>32</td>\n",
       "      <td>3866.8552</td>\n",
       "    </tr>\n",
       "    <tr>\n",
       "      <th>3</th>\n",
       "      <td>31</td>\n",
       "      <td>3756.6216</td>\n",
       "    </tr>\n",
       "    <tr>\n",
       "      <th>4</th>\n",
       "      <td>46</td>\n",
       "      <td>8240.5896</td>\n",
       "    </tr>\n",
       "  </tbody>\n",
       "</table>\n",
       "</div>"
      ],
      "text/plain": [
       "   age    charges\n",
       "0   18  1725.5523\n",
       "1   28  4449.4620\n",
       "2   32  3866.8552\n",
       "3   31  3756.6216\n",
       "4   46  8240.5896"
      ]
     },
     "execution_count": 120,
     "metadata": {},
     "output_type": "execute_result"
    }
   ],
   "source": [
    "df = pd.DataFrame(data, columns=['age', 'charges'])\n",
    "df.head()"
   ]
  },
  {
   "cell_type": "code",
   "execution_count": 121,
   "metadata": {},
   "outputs": [],
   "source": [
    "X = df['age'].values.reshape(-1, 1)\n",
    "y = df['charges'].values.reshape(-1, 1)"
   ]
  },
  {
   "cell_type": "code",
   "execution_count": 122,
   "metadata": {},
   "outputs": [
    {
     "data": {
      "image/png": "[encoded data removed]",
      "text/plain": [
       "<Figure size 432x288 with 1 Axes>"
      ]
     },
     "metadata": {
      "needs_background": "light"
     },
     "output_type": "display_data"
    }
   ],
   "source": [
    "import matplotlib.pyplot as plt\n",
    "plt.scatter(X,y);"
   ]
  },
  {
   "cell_type": "markdown",
   "metadata": {},
   "source": [
    "Podemos observar que los datos tienen un cierta tendencia a una curva"
   ]
  },
  {
   "cell_type": "code",
   "execution_count": 123,
   "metadata": {},
   "outputs": [],
   "source": [
    "from sklearn.model_selection import train_test_split\n",
    "X_train, X_test, y_train, y_test = train_test_split(X, y, test_size = 0.33)"
   ]
  },
  {
   "cell_type": "markdown",
   "metadata": {},
   "source": [
    "### 2. Genera los siguiente modelos utilizando la librería Scikit-learn:"
   ]
  },
  {
   "cell_type": "markdown",
   "metadata": {},
   "source": [
    "- Modelo de regresión polinomial."
   ]
  },
  {
   "cell_type": "code",
   "execution_count": 124,
   "metadata": {},
   "outputs": [],
   "source": [
    "from sklearn.linear_model import LinearRegression\n",
    "from sklearn.preprocessing import PolynomialFeatures\n",
    "\n",
    "# Paso los datos originales en su forma polinomial\n",
    "X_train_poly = PolynomialFeatures(degree=3).fit_transform(X_train)\n",
    "X_test_poly = PolynomialFeatures(degree=3).fit_transform(X_test)\n",
    "\n",
    "# Creo el modelo y lo entreno\n",
    "reg = LinearRegression().fit(X_train_poly, y_train)\n",
    "\n",
    "y_train_hat = reg.predict(X_train_poly)\n",
    "y_test_hat = reg.predict(X_test_poly)"
   ]
  },
  {
   "cell_type": "code",
   "execution_count": 125,
   "metadata": {},
   "outputs": [
    {
     "data": {
      "image/png": "[encoded data removed]",
      "text/plain": [
       "<Figure size 432x288 with 1 Axes>"
      ]
     },
     "metadata": {
      "needs_background": "light"
     },
     "output_type": "display_data"
    }
   ],
   "source": [
    "plt.scatter(X_train, y_train)\n",
    "plt.scatter(X_test, y_test)\n",
    "X_plot = np.linspace(10, 60).reshape(-1, 1)\n",
    "X_plot_poly = PolynomialFeatures(degree=3).fit_transform(X_plot)\n",
    "y_plot = reg.predict(X_plot_poly)\n",
    "plt.plot(X_plot, y_plot, \"r--\");"
   ]
  },
  {
   "cell_type": "markdown",
   "metadata": {},
   "source": [
    "Vamos a calcular el error:"
   ]
  },
  {
   "cell_type": "code",
   "execution_count": 126,
   "metadata": {},
   "outputs": [
    {
     "name": "stdout",
     "output_type": "stream",
     "text": [
      "Datos de entrenamiento:  0.9163589733216064\n",
      "Datos de prueba:  0.9207802825094414\n"
     ]
    }
   ],
   "source": [
    "from sklearn.metrics import r2_score\n",
    "print(\"Datos de entrenamiento: \", r2_score(y_train, y_train_hat))\n",
    "print(\"Datos de prueba: \", r2_score(y_test, y_test_hat))"
   ]
  },
  {
   "cell_type": "markdown",
   "metadata": {},
   "source": [
    "Podemos observar con el gráfico y con el error calculado que nuestro modelo es bastante fiable y que la edad está muy relacionada con el precio del seguro."
   ]
  },
  {
   "cell_type": "markdown",
   "metadata": {},
   "source": [
    "- Modelo de regresión basada en las máquinas de soporte vectorial."
   ]
  },
  {
   "cell_type": "code",
   "execution_count": 127,
   "metadata": {},
   "outputs": [],
   "source": [
    "# Normalizamos los datos\n",
    "from sklearn.preprocessing import MinMaxScaler\n",
    "X_scaler = MinMaxScaler()\n",
    "y_scaler = MinMaxScaler()\n",
    "X = X_scaler.fit_transform(X)\n",
    "y = y_scaler.fit_transform(y)\n",
    "\n",
    "from sklearn.model_selection import train_test_split\n",
    "X_train, X_test, y_train, y_test = train_test_split(X, y, test_size=0.33, random_state=100)"
   ]
  },
  {
   "cell_type": "code",
   "execution_count": 128,
   "metadata": {},
   "outputs": [],
   "source": [
    "from sklearn.svm import SVR\n",
    "\n",
    "svr_rbf = SVR(kernel=\"rbf\", C=100, gamma = 0.1, epsilon=.1)\n",
    "reg = svr_rbf.fit(X_train, y_train.reshape(-1))\n",
    "y_train_hat = reg.predict(X_train)\n",
    "y_test_hat = reg.predict(X_test)"
   ]
  },
  {
   "cell_type": "code",
   "execution_count": 129,
   "metadata": {},
   "outputs": [
    {
     "data": {
      "text/plain": [
       "[<matplotlib.lines.Line2D at 0x1de650aa860>]"
      ]
     },
     "execution_count": 129,
     "metadata": {},
     "output_type": "execute_result"
    },
    {
     "data": {
      "image/png": "[encoded data removed]",
      "text/plain": [
       "<Figure size 432x288 with 1 Axes>"
      ]
     },
     "metadata": {
      "needs_background": "light"
     },
     "output_type": "display_data"
    }
   ],
   "source": [
    "plt.scatter(X_train, y_train)\n",
    "plt.scatter(X_test, y_test)\n",
    "X_plot = np.linspace(0, 1).reshape(-1, 1)\n",
    "y_plot = reg.predict(X_plot)\n",
    "plt.plot(X_plot, y_plot, \"r--\")"
   ]
  },
  {
   "cell_type": "code",
   "execution_count": 130,
   "metadata": {},
   "outputs": [
    {
     "name": "stdout",
     "output_type": "stream",
     "text": [
      "Datos de entrenamiento:  0.9202020639466746\n",
      "Datos de prueba:  0.9065874212188278\n"
     ]
    }
   ],
   "source": [
    "print(\"Datos de entrenamiento: \", r2_score(y_train, y_train_hat))\n",
    "print(\"Datos de prueba: \", r2_score(y_test, y_test_hat))"
   ]
  },
  {
   "cell_type": "markdown",
   "metadata": {},
   "source": [
    "Vemos que con este modelo mejora un poco el error con los datos de entrenamiento pero empero muy poco con los de prueba."
   ]
  },
  {
   "cell_type": "markdown",
   "metadata": {},
   "source": [
    "- Modelo de regresión basada en el método de árboles de regresión."
   ]
  },
  {
   "cell_type": "code",
   "execution_count": 131,
   "metadata": {},
   "outputs": [],
   "source": [
    "from sklearn.tree import DecisionTreeRegressor\n",
    "tree_2 = DecisionTreeRegressor(max_depth=2)\n",
    "reg = tree_2.fit(X_train, y_train.reshape(-1))\n",
    "y_train_hat = reg.predict(X_train)\n",
    "Y_test_hat = reg.predict(X_test)"
   ]
  },
  {
   "cell_type": "code",
   "execution_count": 132,
   "metadata": {},
   "outputs": [
    {
     "data": {
      "image/png": "[encoded data removed]",
      "text/plain": [
       "<Figure size 432x288 with 1 Axes>"
      ]
     },
     "metadata": {
      "needs_background": "light"
     },
     "output_type": "display_data"
    }
   ],
   "source": [
    "plt.scatter(X_train, y_train)\n",
    "plt.scatter(X_test, y_test)\n",
    "X_plot = np.linspace(0, 1).reshape(-1, 1)\n",
    "y_plot = reg.predict(X_plot)\n",
    "plt.plot(X_plot, y_plot, \"r--\");"
   ]
  },
  {
   "cell_type": "code",
   "execution_count": 133,
   "metadata": {},
   "outputs": [
    {
     "name": "stdout",
     "output_type": "stream",
     "text": [
      "digraph Tree {\n",
      "node [shape=box] ;\n",
      "0 [label=\"X[0] <= 0.403\\nmse = 0.085\\nsamples = 477\\nvalue = 0.466\"] ;\n",
      "1 [label=\"X[0] <= 0.181\\nmse = 0.019\\nsamples = 238\\nvalue = 0.218\"] ;\n",
      "0 -> 1 [labeldistance=2.5, labelangle=45, headlabel=\"True\"] ;\n",
      "2 [label=\"mse = 0.008\\nsamples = 132\\nvalue = 0.128\"] ;\n",
      "1 -> 2 ;\n",
      "3 [label=\"mse = 0.011\\nsamples = 106\\nvalue = 0.33\"] ;\n",
      "1 -> 3 ;\n",
      "4 [label=\"X[0] <= 0.736\\nmse = 0.029\\nsamples = 239\\nvalue = 0.712\"] ;\n",
      "0 -> 4 [labeldistance=2.5, labelangle=-45, headlabel=\"False\"] ;\n",
      "5 [label=\"mse = 0.014\\nsamples = 147\\nvalue = 0.604\"] ;\n",
      "4 -> 5 ;\n",
      "6 [label=\"mse = 0.006\\nsamples = 92\\nvalue = 0.885\"] ;\n",
      "4 -> 6 ;\n",
      "}\n"
     ]
    }
   ],
   "source": [
    "from sklearn.tree import export_graphviz\n",
    "print(export_graphviz(tree_2))"
   ]
  },
  {
   "cell_type": "code",
   "execution_count": 134,
   "metadata": {},
   "outputs": [
    {
     "name": "stdout",
     "output_type": "stream",
     "text": [
      "Entrenamiento 0.8830213199627284\n",
      "Prueba 0.9065874212188278\n"
     ]
    }
   ],
   "source": [
    "print(\"Entrenamiento\", r2_score(y_train, y_train_hat))\n",
    "print(\"Prueba\", r2_score(y_test, y_test_hat))"
   ]
  },
  {
   "cell_type": "markdown",
   "metadata": {},
   "source": [
    "Vemos que en este caso el error empeora con los datos de entrenamiento y se mantiene con los de prueba"
   ]
  },
  {
   "cell_type": "markdown",
   "metadata": {},
   "source": [
    "### 3. Utiliza la instrucción df[“over5000”] = (df[“charges”] > 5000).map({False: 0, True: 1}) para agregar una variable que indique si el precio del servicio médico sobrepasa o no los $5000 dólares."
   ]
  },
  {
   "cell_type": "code",
   "execution_count": 135,
   "metadata": {},
   "outputs": [
    {
     "data": {
      "text/html": [
       "<div>\n",
       "<style scoped>\n",
       "    .dataframe tbody tr th:only-of-type {\n",
       "        vertical-align: middle;\n",
       "    }\n",
       "\n",
       "    .dataframe tbody tr th {\n",
       "        vertical-align: top;\n",
       "    }\n",
       "\n",
       "    .dataframe thead th {\n",
       "        text-align: right;\n",
       "    }\n",
       "</style>\n",
       "<table border=\"1\" class=\"dataframe\">\n",
       "  <thead>\n",
       "    <tr style=\"text-align: right;\">\n",
       "      <th></th>\n",
       "      <th>age</th>\n",
       "      <th>charges</th>\n",
       "      <th>over5000</th>\n",
       "    </tr>\n",
       "  </thead>\n",
       "  <tbody>\n",
       "    <tr>\n",
       "      <th>0</th>\n",
       "      <td>18</td>\n",
       "      <td>1725.5523</td>\n",
       "      <td>0</td>\n",
       "    </tr>\n",
       "    <tr>\n",
       "      <th>1</th>\n",
       "      <td>28</td>\n",
       "      <td>4449.4620</td>\n",
       "      <td>0</td>\n",
       "    </tr>\n",
       "    <tr>\n",
       "      <th>2</th>\n",
       "      <td>32</td>\n",
       "      <td>3866.8552</td>\n",
       "      <td>0</td>\n",
       "    </tr>\n",
       "    <tr>\n",
       "      <th>3</th>\n",
       "      <td>31</td>\n",
       "      <td>3756.6216</td>\n",
       "      <td>0</td>\n",
       "    </tr>\n",
       "    <tr>\n",
       "      <th>4</th>\n",
       "      <td>46</td>\n",
       "      <td>8240.5896</td>\n",
       "      <td>1</td>\n",
       "    </tr>\n",
       "  </tbody>\n",
       "</table>\n",
       "</div>"
      ],
      "text/plain": [
       "   age    charges  over5000\n",
       "0   18  1725.5523         0\n",
       "1   28  4449.4620         0\n",
       "2   32  3866.8552         0\n",
       "3   31  3756.6216         0\n",
       "4   46  8240.5896         1"
      ]
     },
     "execution_count": 135,
     "metadata": {},
     "output_type": "execute_result"
    }
   ],
   "source": [
    "df['over5000'] = (df[\"charges\"]>5000).map({False:0, True:1})\n",
    "df.head()"
   ]
  },
  {
   "cell_type": "markdown",
   "metadata": {},
   "source": [
    "### 4. A partir de esos datos, generar un modelo de regresión logística y validarlo con una matriz de confusión.\n",
    "\n",
    "Primero vamos a ver qué cantidad de personas pagan por encima y por debajo de 5000$ y veremos que tenemos una muestra con la misma cantidad de valores tanto de un tipo como de otro con  lo que no es necesario hacer resampling."
   ]
  },
  {
   "cell_type": "code",
   "execution_count": 136,
   "metadata": {},
   "outputs": [
    {
     "data": {
      "image/png": "[encoded data removed]",
      "text/plain": [
       "<Figure size 432x288 with 1 Axes>"
      ]
     },
     "metadata": {
      "needs_background": "light"
     },
     "output_type": "display_data"
    }
   ],
   "source": [
    "plt.bar(df.over5000.unique(), df.over5000.value_counts());"
   ]
  },
  {
   "cell_type": "markdown",
   "metadata": {},
   "source": [
    "Separamos en dos dataframes lo valores por encima y por debajo de 5000$"
   ]
  },
  {
   "cell_type": "code",
   "execution_count": 137,
   "metadata": {},
   "outputs": [],
   "source": [
    "X = df['age'].values.reshape(-1, 1)\n",
    "y = df['over5000']"
   ]
  },
  {
   "cell_type": "code",
   "execution_count": 138,
   "metadata": {},
   "outputs": [],
   "source": [
    "X_train, X_test, y_train, y_test = train_test_split(X, y, test_size= 0.33)"
   ]
  },
  {
   "cell_type": "code",
   "execution_count": 140,
   "metadata": {},
   "outputs": [
    {
     "name": "stdout",
     "output_type": "stream",
     "text": [
      "(477, 1)\n",
      "(235, 1)\n"
     ]
    }
   ],
   "source": [
    "print(X_train.shape)\n",
    "print(X_test.shape)"
   ]
  },
  {
   "cell_type": "code",
   "execution_count": 141,
   "metadata": {},
   "outputs": [],
   "source": [
    "from sklearn.linear_model import LogisticRegression\n",
    "clf = LogisticRegression(solver='lbfgs').fit(X_train, y_train)\n",
    "y_train_hat = clf.predict(X_train)\n",
    "y_test_hat = clf.predict(X_test)"
   ]
  },
  {
   "cell_type": "markdown",
   "metadata": {},
   "source": [
    "Calculamos la precisión media de los datos de entrenamiento y de prueba observando que es bastante fiable."
   ]
  },
  {
   "cell_type": "code",
   "execution_count": 142,
   "metadata": {},
   "outputs": [
    {
     "data": {
      "text/plain": [
       "0.9287211740041929"
      ]
     },
     "execution_count": 142,
     "metadata": {},
     "output_type": "execute_result"
    }
   ],
   "source": [
    "clf.score(X_train, y_train)"
   ]
  },
  {
   "cell_type": "code",
   "execution_count": 143,
   "metadata": {},
   "outputs": [
    {
     "data": {
      "text/plain": [
       "0.9574468085106383"
      ]
     },
     "execution_count": 143,
     "metadata": {},
     "output_type": "execute_result"
    }
   ],
   "source": [
    "clf.score(X_test, y_test)"
   ]
  },
  {
   "cell_type": "markdown",
   "metadata": {},
   "source": [
    "Las probabilidades estimadas de los datos de la columna 'age' es;"
   ]
  },
  {
   "cell_type": "code",
   "execution_count": 144,
   "metadata": {},
   "outputs": [],
   "source": [
    "pro = clf.predict_proba(X_train)[:,0]"
   ]
  },
  {
   "cell_type": "code",
   "execution_count": 145,
   "metadata": {},
   "outputs": [
    {
     "data": {
      "text/plain": [
       "array([7.35211310e-01, 9.99265256e-01, 2.01495972e-03, 6.96578761e-02,\n",
       "       2.60484892e-01, 4.97222028e-01, 4.97222028e-01, 9.12193199e-05,\n",
       "       2.56067142e-04, 2.59752016e-02, 1.11472498e-01, 9.90381561e-01,\n",
       "       9.73456557e-01, 9.99561373e-01, 9.90381561e-01, 1.56661407e-02,\n",
       "       9.99265256e-01, 9.99561373e-01, 6.96578761e-02, 7.18607108e-04,\n",
       "       3.37166860e-03, 2.59752016e-02, 9.40902559e-03, 1.56661407e-02,\n",
       "       9.99265256e-01, 9.98769476e-01, 6.23646988e-01, 1.56661407e-02,\n",
       "       9.96552822e-01, 2.59752016e-02, 7.35211310e-01, 9.97939852e-01,\n",
       "       9.99561373e-01, 2.56067142e-04, 4.97222028e-01, 9.73456557e-01,\n",
       "       6.23646988e-01, 9.96552822e-01, 9.73456557e-01, 9.56307437e-01,\n",
       "       9.40902559e-03, 9.83987435e-01, 9.99561373e-01, 2.56067142e-04,\n",
       "       9.98769476e-01, 2.60484892e-01, 9.99265256e-01, 9.99265256e-01,\n",
       "       6.23646988e-01, 2.59752016e-02, 1.11472498e-01, 9.73456557e-01,\n",
       "       9.28888036e-01, 3.37166860e-03, 9.94237343e-01, 1.73701358e-01,\n",
       "       9.56307437e-01, 5.63671463e-03, 5.63671463e-03, 3.71151292e-01,\n",
       "       1.56661407e-02, 3.71151292e-01, 2.56067142e-04, 5.63671463e-03,\n",
       "       9.90381561e-01, 9.96552822e-01, 3.37166860e-03, 9.94237343e-01,\n",
       "       9.90381561e-01, 3.37166860e-03, 9.98769476e-01, 9.40902559e-03,\n",
       "       4.97222028e-01, 3.71151292e-01, 8.23085682e-01, 9.56307437e-01,\n",
       "       2.56067142e-04, 5.44419269e-05, 9.73456557e-01, 6.96578761e-02,\n",
       "       9.94237343e-01, 1.20351091e-03, 9.73456557e-01, 3.71151292e-01,\n",
       "       9.99561373e-01, 4.28990865e-04, 9.99561373e-01, 6.23646988e-01,\n",
       "       2.56067142e-04, 9.98769476e-01, 1.73701358e-01, 6.23646988e-01,\n",
       "       9.94237343e-01, 8.23085682e-01, 7.35211310e-01, 4.97222028e-01,\n",
       "       9.28888036e-01, 8.86307215e-01, 9.99265256e-01, 9.28888036e-01,\n",
       "       1.11472498e-01, 9.99561373e-01, 7.35211310e-01, 4.28990865e-04,\n",
       "       9.99561373e-01, 1.11472498e-01, 6.96578761e-02, 3.37166860e-03,\n",
       "       8.23085682e-01, 1.93914409e-05, 2.59752016e-02, 4.28990865e-04,\n",
       "       9.97939852e-01, 9.98769476e-01, 3.71151292e-01, 7.18607108e-04,\n",
       "       9.99265256e-01, 6.23646988e-01, 1.56661407e-02, 1.11472498e-01,\n",
       "       2.01495972e-03, 9.99265256e-01, 2.60484892e-01, 9.56307437e-01,\n",
       "       9.40902559e-03, 3.71151292e-01, 7.35211310e-01, 9.90381561e-01,\n",
       "       3.37166860e-03, 9.94237343e-01, 8.86307215e-01, 9.83987435e-01,\n",
       "       9.12193199e-05, 1.20351091e-03, 9.96552822e-01, 9.99265256e-01,\n",
       "       9.12193199e-05, 9.96552822e-01, 1.56661407e-02, 9.83987435e-01,\n",
       "       9.40902559e-03, 4.97222028e-01, 1.56661407e-02, 9.12193199e-05,\n",
       "       9.28888036e-01, 2.01495972e-03, 2.56067142e-04, 9.83987435e-01,\n",
       "       2.59752016e-02, 1.52837309e-04, 9.83987435e-01, 9.40902559e-03,\n",
       "       1.11472498e-01, 9.99561373e-01, 5.63671463e-03, 6.96578761e-02,\n",
       "       1.11472498e-01, 8.23085682e-01, 2.59752016e-02, 3.37166860e-03,\n",
       "       7.18607108e-04, 9.98769476e-01, 1.56661407e-02, 4.97222028e-01,\n",
       "       1.20351091e-03, 3.71151292e-01, 9.12193199e-05, 2.01495972e-03,\n",
       "       8.86307215e-01, 3.37166860e-03, 2.60484892e-01, 9.97939852e-01,\n",
       "       9.97939852e-01, 9.83987435e-01, 9.12193199e-05, 9.28888036e-01,\n",
       "       9.90381561e-01, 9.56307437e-01, 2.01495972e-03, 4.28990865e-04,\n",
       "       7.18607108e-04, 9.73456557e-01, 9.56307437e-01, 1.73701358e-01,\n",
       "       1.73701358e-01, 9.83987435e-01, 2.56067142e-04, 3.71151292e-01,\n",
       "       5.63671463e-03, 6.23646988e-01, 6.23646988e-01, 8.86307215e-01,\n",
       "       7.18607108e-04, 9.28888036e-01, 9.28888036e-01, 9.99561373e-01,\n",
       "       9.99561373e-01, 3.71151292e-01, 6.96578761e-02, 9.99561373e-01,\n",
       "       7.35211310e-01, 4.28990865e-04, 9.73456557e-01, 7.35211310e-01,\n",
       "       1.20351091e-03, 9.99561373e-01, 3.71151292e-01, 8.23085682e-01,\n",
       "       7.18607108e-04, 4.28990865e-04, 9.73456557e-01, 8.23085682e-01,\n",
       "       3.37166860e-03, 9.98769476e-01, 9.73456557e-01, 8.86307215e-01,\n",
       "       2.01495972e-03, 1.20351091e-03, 4.97222028e-01, 5.44419269e-05,\n",
       "       9.28888036e-01, 9.99265256e-01, 9.97939852e-01, 2.56067142e-04,\n",
       "       1.20351091e-03, 9.83987435e-01, 2.01495972e-03, 1.73701358e-01,\n",
       "       9.28888036e-01, 9.97939852e-01, 9.83987435e-01, 5.63671463e-03,\n",
       "       9.99561373e-01, 9.56307437e-01, 1.20351091e-03, 9.96552822e-01,\n",
       "       9.99561373e-01, 9.40902559e-03, 9.99561373e-01, 9.99265256e-01,\n",
       "       9.73456557e-01, 9.99561373e-01, 9.99561373e-01, 3.71151292e-01,\n",
       "       9.28888036e-01, 7.35211310e-01, 1.20351091e-03, 3.37166860e-03,\n",
       "       2.60484892e-01, 1.73701358e-01, 9.96552822e-01, 9.73456557e-01,\n",
       "       7.35211310e-01, 1.73701358e-01, 9.99561373e-01, 9.98769476e-01,\n",
       "       8.86307215e-01, 7.35211310e-01, 3.24917951e-05, 9.90381561e-01,\n",
       "       9.97939852e-01, 9.12193199e-05, 1.20351091e-03, 9.99561373e-01,\n",
       "       7.35211310e-01, 1.56661407e-02, 9.99561373e-01, 4.97222028e-01,\n",
       "       2.56067142e-04, 9.96552822e-01, 9.96552822e-01, 9.94237343e-01,\n",
       "       6.23646988e-01, 1.56661407e-02, 9.83987435e-01, 7.35211310e-01,\n",
       "       9.12193199e-05, 2.01495972e-03, 9.83987435e-01, 9.12193199e-05,\n",
       "       3.24917951e-05, 9.73456557e-01, 9.73456557e-01, 9.90381561e-01,\n",
       "       2.60484892e-01, 2.56067142e-04, 5.44419269e-05, 9.40902559e-03,\n",
       "       9.99265256e-01, 9.99265256e-01, 9.99265256e-01, 9.99265256e-01,\n",
       "       6.96578761e-02, 9.99561373e-01, 9.90381561e-01, 1.73701358e-01,\n",
       "       5.63671463e-03, 4.27733259e-02, 1.20351091e-03, 9.99561373e-01,\n",
       "       1.73701358e-01, 4.28990865e-04, 9.96552822e-01, 7.35211310e-01,\n",
       "       9.99561373e-01, 1.52837309e-04, 7.35211310e-01, 9.96552822e-01,\n",
       "       9.40902559e-03, 2.56067142e-04, 1.56661407e-02, 1.20351091e-03,\n",
       "       3.37166860e-03, 1.56661407e-02, 9.99265256e-01, 9.99561373e-01,\n",
       "       6.23646988e-01, 9.73456557e-01, 1.56661407e-02, 5.44419269e-05,\n",
       "       9.94237343e-01, 2.01495972e-03, 8.86307215e-01, 9.99265256e-01,\n",
       "       2.01495972e-03, 3.37166860e-03, 1.20351091e-03, 8.23085682e-01,\n",
       "       9.94237343e-01, 8.86307215e-01, 2.56067142e-04, 9.40902559e-03,\n",
       "       9.99265256e-01, 9.99561373e-01, 9.90381561e-01, 9.99265256e-01,\n",
       "       9.94237343e-01, 2.01495972e-03, 9.98769476e-01, 2.56067142e-04,\n",
       "       9.12193199e-05, 9.56307437e-01, 9.99561373e-01, 9.83987435e-01,\n",
       "       5.44419269e-05, 9.83987435e-01, 9.97939852e-01, 1.73701358e-01,\n",
       "       4.28990865e-04, 2.01495972e-03, 1.11472498e-01, 9.12193199e-05,\n",
       "       3.71151292e-01, 4.28990865e-04, 3.37166860e-03, 2.59752016e-02,\n",
       "       7.18607108e-04, 5.63671463e-03, 7.35211310e-01, 4.27733259e-02,\n",
       "       4.27733259e-02, 2.60484892e-01, 7.35211310e-01, 9.97939852e-01,\n",
       "       6.96578761e-02, 3.37166860e-03, 9.99561373e-01, 9.40902559e-03,\n",
       "       9.99561373e-01, 8.86307215e-01, 2.60484892e-01, 8.86307215e-01,\n",
       "       9.56307437e-01, 8.23085682e-01, 9.96552822e-01, 9.97939852e-01,\n",
       "       9.12193199e-05, 9.99561373e-01, 9.90381561e-01, 9.96552822e-01,\n",
       "       6.96578761e-02, 9.28888036e-01, 9.99265256e-01, 8.86307215e-01,\n",
       "       9.12193199e-05, 9.99265256e-01, 4.27733259e-02, 1.73701358e-01,\n",
       "       4.97222028e-01, 9.56307437e-01, 6.23646988e-01, 2.01495972e-03,\n",
       "       9.99265256e-01, 9.90381561e-01, 1.11472498e-01, 1.20351091e-03,\n",
       "       9.40902559e-03, 9.90381561e-01, 1.11472498e-01, 9.99265256e-01,\n",
       "       9.96552822e-01, 2.01495972e-03, 2.60484892e-01, 9.28888036e-01,\n",
       "       9.99561373e-01, 7.35211310e-01, 9.96552822e-01, 1.52837309e-04,\n",
       "       8.23085682e-01, 9.99265256e-01, 8.23085682e-01, 4.28990865e-04,\n",
       "       5.44419269e-05, 3.37166860e-03, 9.96552822e-01, 9.99561373e-01,\n",
       "       9.94237343e-01, 1.52837309e-04, 4.97222028e-01, 9.12193199e-05,\n",
       "       1.73701358e-01, 1.11472498e-01, 9.99265256e-01, 9.83987435e-01,\n",
       "       4.28990865e-04, 9.83987435e-01, 9.90381561e-01, 9.99265256e-01,\n",
       "       2.56067142e-04, 8.23085682e-01, 9.94237343e-01, 9.99561373e-01,\n",
       "       9.40902559e-03, 2.01495972e-03, 9.98769476e-01, 8.86307215e-01,\n",
       "       9.99561373e-01, 3.71151292e-01, 7.18607108e-04, 4.97222028e-01,\n",
       "       8.23085682e-01, 5.63671463e-03, 1.73701358e-01, 9.73456557e-01,\n",
       "       3.37166860e-03, 9.90381561e-01, 6.23646988e-01, 9.97939852e-01,\n",
       "       8.86307215e-01, 6.23646988e-01, 2.01495972e-03, 6.23646988e-01,\n",
       "       1.20351091e-03, 2.01495972e-03, 9.98769476e-01, 6.23646988e-01,\n",
       "       9.73456557e-01, 1.52837309e-04, 9.99561373e-01, 6.96578761e-02,\n",
       "       4.27733259e-02, 6.23646988e-01, 9.98769476e-01, 8.23085682e-01,\n",
       "       4.27733259e-02, 9.97939852e-01, 9.83987435e-01, 7.35211310e-01,\n",
       "       7.35211310e-01, 4.27733259e-02, 6.96578761e-02, 1.56661407e-02,\n",
       "       9.99561373e-01, 9.99561373e-01, 1.56661407e-02, 3.71151292e-01,\n",
       "       3.71151292e-01])"
      ]
     },
     "execution_count": 145,
     "metadata": {},
     "output_type": "execute_result"
    }
   ],
   "source": [
    "pro"
   ]
  },
  {
   "cell_type": "code",
   "execution_count": 146,
   "metadata": {},
   "outputs": [
    {
     "data": {
      "image/png": "[encoded data removed]",
      "text/plain": [
       "<Figure size 432x288 with 1 Axes>"
      ]
     },
     "metadata": {
      "needs_background": "light"
     },
     "output_type": "display_data"
    }
   ],
   "source": [
    "plt.scatter(X_train, pro);"
   ]
  },
  {
   "cell_type": "markdown",
   "metadata": {},
   "source": [
    "Podemos observar con la función logística que aparece que las personas más jovenes, hasta los 30 años más o menos,  tienen más probabilidad de pagar menos de 5000 dolares mientras que para los mayores de 35 años la probabilidad es nula y les tocaría pagar más de 5000 dolares por el seguro médico.\n",
    "\n",
    "Validamos con una matriz de confusión."
   ]
  },
  {
   "cell_type": "code",
   "execution_count": 147,
   "metadata": {},
   "outputs": [
    {
     "data": {
      "image/png": "[encoded data removed]",
      "text/plain": [
       "<Figure size 432x288 with 2 Axes>"
      ]
     },
     "metadata": {
      "needs_background": "light"
     },
     "output_type": "display_data"
    }
   ],
   "source": [
    "from sklearn.metrics import confusion_matrix\n",
    "import seaborn as sns\n",
    "\n",
    "cm=confusion_matrix(y_test, y_test_hat, labels=[0, 1])\n",
    "sns.heatmap(cm,\n",
    "           annot= True,\n",
    "           fmt = 'd',\n",
    "           xticklabels=[0,1],\n",
    "           yticklabels=[0,1],\n",
    "           cmap='Reds')\n",
    "plt.ylabel('Predicted')\n",
    "plt.xlabel('Actual');"
   ]
  },
  {
   "cell_type": "code",
   "execution_count": 148,
   "metadata": {},
   "outputs": [
    {
     "name": "stdout",
     "output_type": "stream",
     "text": [
      "106 6 4 119\n"
     ]
    }
   ],
   "source": [
    "TP,FP,FN,TN=cm.flatten()\n",
    "print(TP,FP,FN,TN)"
   ]
  },
  {
   "cell_type": "markdown",
   "metadata": {},
   "source": [
    "Recall"
   ]
  },
  {
   "cell_type": "code",
   "execution_count": 149,
   "metadata": {},
   "outputs": [
    {
     "data": {
      "text/plain": [
       "0.9636363636363636"
      ]
     },
     "execution_count": 149,
     "metadata": {},
     "output_type": "execute_result"
    }
   ],
   "source": [
    "TPR = TP/(TP+FN)\n",
    "TPR"
   ]
  },
  {
   "cell_type": "markdown",
   "metadata": {},
   "source": [
    "Precision"
   ]
  },
  {
   "cell_type": "code",
   "execution_count": 150,
   "metadata": {},
   "outputs": [
    {
     "data": {
      "text/plain": [
       "0.9464285714285714"
      ]
     },
     "execution_count": 150,
     "metadata": {},
     "output_type": "execute_result"
    }
   ],
   "source": [
    "PPV = TP/(TP+FP)\n",
    "PPV"
   ]
  },
  {
   "cell_type": "markdown",
   "metadata": {},
   "source": [
    "Accuracy"
   ]
  },
  {
   "cell_type": "code",
   "execution_count": 151,
   "metadata": {},
   "outputs": [
    {
     "data": {
      "text/plain": [
       "0.9574468085106383"
      ]
     },
     "execution_count": 151,
     "metadata": {},
     "output_type": "execute_result"
    }
   ],
   "source": [
    "ACC = (TP+TN)/cm.sum()\n",
    "ACC"
   ]
  },
  {
   "cell_type": "markdown",
   "metadata": {},
   "source": [
    "F-measure"
   ]
  },
  {
   "cell_type": "code",
   "execution_count": 152,
   "metadata": {},
   "outputs": [
    {
     "data": {
      "text/plain": [
       "0.9549549549549549"
      ]
     },
     "execution_count": 152,
     "metadata": {},
     "output_type": "execute_result"
    }
   ],
   "source": [
    "F = (2*TPR*PPV)/(TPR+PPV)\n",
    "F"
   ]
  },
  {
   "cell_type": "code",
   "execution_count": 153,
   "metadata": {},
   "outputs": [
    {
     "name": "stdout",
     "output_type": "stream",
     "text": [
      "0.9574468085106383\n",
      "              precision    recall  f1-score   support\n",
      "\n",
      "           0       0.96      0.95      0.95       112\n",
      "           1       0.95      0.97      0.96       123\n",
      "\n",
      "    accuracy                           0.96       235\n",
      "   macro avg       0.96      0.96      0.96       235\n",
      "weighted avg       0.96      0.96      0.96       235\n",
      "\n"
     ]
    }
   ],
   "source": [
    "from sklearn.metrics import classification_report\n",
    "from sklearn.metrics import accuracy_score\n",
    "print(accuracy_score(y_test, y_test_hat))\n",
    "print(classification_report(y_test, y_test_hat))"
   ]
  },
  {
   "cell_type": "markdown",
   "metadata": {},
   "source": [
    "Vemos que tanto el TPR como el PPV son altos por lo que podemos decir que la mayoría de los casos positivos son clasificados correctamente y que hay muchos de ellos de ellos\n",
    "También podemos observar que el accuracy o porcentaje de predicciones correctas y que la media armónica son practicamente 1 por lo que podemos decir que nuestro modelo es bastante bueno."
   ]
  },
  {
   "cell_type": "markdown",
   "metadata": {},
   "source": [
    "### 5. Genera una imagen .png de tu matriz de confusión utilizando la instrucción dada o toma una captura de pantalla en formato .jpeg "
   ]
  },
  {
   "cell_type": "code",
   "execution_count": 154,
   "metadata": {},
   "outputs": [
    {
     "data": {
      "image/png": "[encoded data removed]",
      "text/plain": [
       "<Figure size 432x288 with 2 Axes>"
      ]
     },
     "metadata": {
      "needs_background": "light"
     },
     "output_type": "display_data"
    }
   ],
   "source": [
    "cm=confusion_matrix(y_test, y_test_hat, labels=[0, 1])\n",
    "sns.heatmap(cm,\n",
    "           annot= True,\n",
    "           fmt = 'd',\n",
    "           xticklabels=[0,1],\n",
    "           yticklabels=[0,1],\n",
    "           cmap='Reds')\n",
    "plt.ylabel('Predicted')\n",
    "plt.xlabel('Actual');\n",
    "\n",
    "plt.savefig(\"figura.png\")"
   ]
  },
  {
   "cell_type": "code",
   "execution_count": null,
   "metadata": {},
   "outputs": [],
   "source": []
  }
 ],
 "metadata": {
  "kernelspec": {
   "display_name": "Python 3",
   "language": "python",
   "name": "python3"
  },
  "language_info": {
   "codemirror_mode": {
    "name": "ipython",
    "version": 3
   },
   "file_extension": ".py",
   "mimetype": "text/x-python",
   "name": "python",
   "nbconvert_exporter": "python",
   "pygments_lexer": "ipython3",
   "version": "3.7.3"
  }
 },
 "nbformat": 4,
 "nbformat_minor": 2
}
