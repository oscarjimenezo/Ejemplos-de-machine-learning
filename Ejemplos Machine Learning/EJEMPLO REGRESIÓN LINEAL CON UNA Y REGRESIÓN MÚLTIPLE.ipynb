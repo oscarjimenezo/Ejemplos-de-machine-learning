{
 "cells": [
  {
   "cell_type": "markdown",
   "metadata": {},
   "source": [
    "# Regresión Lineal\n"
   ]
  },
  {
   "cell_type": "markdown",
   "metadata": {},
   "source": [
    "<p style='text-align: justify;'>Este modelo nos permite encontrar la relación que existe entre una variable dependiente y una independiente, así como predecir el valor esperado de una variable aleatoria y cuando x toma un valor especifico.</p>  \n",
    "<p style='text-align: justify;'>Este método implica suponer que alguna función de la recta de forma y=mx+b es la representación mas adecuada de la distribución de los datos en un diagrama de dispersión. En un mundo ideal, todos los puntos del diagrama de dispersión se alinearían en una sola línea recta perfecta sin la necesidad de encontrar la recta que resume los datos ya que solo bastaría con unir dichos puntos, sin embargo, la realidad no es así, típicamente en los conjuntos de datos de los diagramas de dispersión se puede trazar mas de una línea recta y cada una de estas líneas dará un ajuste diferente al conjunto de datos, se trata entonces de encontrar la línea recta que brinde el mayor ajuste.</p>   "
   ]
  },
  {
   "cell_type": "code",
   "execution_count": 1,
   "metadata": {},
   "outputs": [
    {
     "data": {
      "text/html": [
       "<div>\n",
       "<style scoped>\n",
       "    .dataframe tbody tr th:only-of-type {\n",
       "        vertical-align: middle;\n",
       "    }\n",
       "\n",
       "    .dataframe tbody tr th {\n",
       "        vertical-align: top;\n",
       "    }\n",
       "\n",
       "    .dataframe thead th {\n",
       "        text-align: right;\n",
       "    }\n",
       "</style>\n",
       "<table border=\"1\" class=\"dataframe\">\n",
       "  <thead>\n",
       "    <tr style=\"text-align: right;\">\n",
       "      <th></th>\n",
       "      <th>CRIM</th>\n",
       "      <th>ZN</th>\n",
       "      <th>INDUS</th>\n",
       "      <th>CHAS</th>\n",
       "      <th>NOX</th>\n",
       "      <th>RM</th>\n",
       "      <th>AGE</th>\n",
       "      <th>DIS</th>\n",
       "      <th>RAD</th>\n",
       "      <th>TAX</th>\n",
       "      <th>PTRATIO</th>\n",
       "      <th>B</th>\n",
       "      <th>LSTAT</th>\n",
       "      <th>MEDV</th>\n",
       "    </tr>\n",
       "  </thead>\n",
       "  <tbody>\n",
       "    <tr>\n",
       "      <th>0</th>\n",
       "      <td>0.00632</td>\n",
       "      <td>18.0</td>\n",
       "      <td>2.31</td>\n",
       "      <td>0.0</td>\n",
       "      <td>0.538</td>\n",
       "      <td>6.575</td>\n",
       "      <td>65.2</td>\n",
       "      <td>4.0900</td>\n",
       "      <td>1.0</td>\n",
       "      <td>296.0</td>\n",
       "      <td>15.3</td>\n",
       "      <td>396.90</td>\n",
       "      <td>4.98</td>\n",
       "      <td>24.0</td>\n",
       "    </tr>\n",
       "    <tr>\n",
       "      <th>1</th>\n",
       "      <td>0.02731</td>\n",
       "      <td>0.0</td>\n",
       "      <td>7.07</td>\n",
       "      <td>0.0</td>\n",
       "      <td>0.469</td>\n",
       "      <td>6.421</td>\n",
       "      <td>78.9</td>\n",
       "      <td>4.9671</td>\n",
       "      <td>2.0</td>\n",
       "      <td>242.0</td>\n",
       "      <td>17.8</td>\n",
       "      <td>396.90</td>\n",
       "      <td>9.14</td>\n",
       "      <td>21.6</td>\n",
       "    </tr>\n",
       "    <tr>\n",
       "      <th>2</th>\n",
       "      <td>0.02729</td>\n",
       "      <td>0.0</td>\n",
       "      <td>7.07</td>\n",
       "      <td>0.0</td>\n",
       "      <td>0.469</td>\n",
       "      <td>7.185</td>\n",
       "      <td>61.1</td>\n",
       "      <td>4.9671</td>\n",
       "      <td>2.0</td>\n",
       "      <td>242.0</td>\n",
       "      <td>17.8</td>\n",
       "      <td>392.83</td>\n",
       "      <td>4.03</td>\n",
       "      <td>34.7</td>\n",
       "    </tr>\n",
       "    <tr>\n",
       "      <th>3</th>\n",
       "      <td>0.03237</td>\n",
       "      <td>0.0</td>\n",
       "      <td>2.18</td>\n",
       "      <td>0.0</td>\n",
       "      <td>0.458</td>\n",
       "      <td>6.998</td>\n",
       "      <td>45.8</td>\n",
       "      <td>6.0622</td>\n",
       "      <td>3.0</td>\n",
       "      <td>222.0</td>\n",
       "      <td>18.7</td>\n",
       "      <td>394.63</td>\n",
       "      <td>2.94</td>\n",
       "      <td>33.4</td>\n",
       "    </tr>\n",
       "    <tr>\n",
       "      <th>4</th>\n",
       "      <td>0.06905</td>\n",
       "      <td>0.0</td>\n",
       "      <td>2.18</td>\n",
       "      <td>0.0</td>\n",
       "      <td>0.458</td>\n",
       "      <td>7.147</td>\n",
       "      <td>54.2</td>\n",
       "      <td>6.0622</td>\n",
       "      <td>3.0</td>\n",
       "      <td>222.0</td>\n",
       "      <td>18.7</td>\n",
       "      <td>396.90</td>\n",
       "      <td>5.33</td>\n",
       "      <td>36.2</td>\n",
       "    </tr>\n",
       "  </tbody>\n",
       "</table>\n",
       "</div>"
      ],
      "text/plain": [
       "      CRIM    ZN  INDUS  CHAS    NOX     RM   AGE     DIS  RAD    TAX  \\\n",
       "0  0.00632  18.0   2.31   0.0  0.538  6.575  65.2  4.0900  1.0  296.0   \n",
       "1  0.02731   0.0   7.07   0.0  0.469  6.421  78.9  4.9671  2.0  242.0   \n",
       "2  0.02729   0.0   7.07   0.0  0.469  7.185  61.1  4.9671  2.0  242.0   \n",
       "3  0.03237   0.0   2.18   0.0  0.458  6.998  45.8  6.0622  3.0  222.0   \n",
       "4  0.06905   0.0   2.18   0.0  0.458  7.147  54.2  6.0622  3.0  222.0   \n",
       "\n",
       "   PTRATIO       B  LSTAT  MEDV  \n",
       "0     15.3  396.90   4.98  24.0  \n",
       "1     17.8  396.90   9.14  21.6  \n",
       "2     17.8  392.83   4.03  34.7  \n",
       "3     18.7  394.63   2.94  33.4  \n",
       "4     18.7  396.90   5.33  36.2  "
      ]
     },
     "execution_count": 1,
     "metadata": {},
     "output_type": "execute_result"
    }
   ],
   "source": [
    "from sklearn.datasets import load_boston\n",
    "\n",
    "# Cargamos un conjunto de datos\n",
    "boston_dataset = load_boston()\n",
    "# Se carga con pandas para tratamiento posterior\n",
    "import pandas as pd\n",
    "df = pd.DataFrame(boston_dataset.data,columns=boston_dataset.feature_names)\n",
    "# Agregamos la variable de respuesta\n",
    "df['MEDV'] = boston_dataset.target[df.index]\n",
    "df.head()"
   ]
  },
  {
   "cell_type": "code",
   "execution_count": 2,
   "metadata": {
    "scrolled": true
   },
   "outputs": [
    {
     "data": {
      "text/plain": [
       "LSTAT     -0.737663\n",
       "PTRATIO   -0.507787\n",
       "INDUS     -0.483725\n",
       "TAX       -0.468536\n",
       "NOX       -0.427321\n",
       "CRIM      -0.388305\n",
       "RAD       -0.381626\n",
       "AGE       -0.376955\n",
       "CHAS       0.175260\n",
       "DIS        0.249929\n",
       "B          0.333461\n",
       "ZN         0.360445\n",
       "RM         0.695360\n",
       "MEDV       1.000000\n",
       "Name: MEDV, dtype: float64"
      ]
     },
     "execution_count": 2,
     "metadata": {},
     "output_type": "execute_result"
    }
   ],
   "source": [
    "df.corr()[\"MEDV\"].sort_values()"
   ]
  },
  {
   "cell_type": "markdown",
   "metadata": {},
   "source": [
    "## Regresión con una variable"
   ]
  },
  {
   "cell_type": "code",
   "execution_count": 3,
   "metadata": {},
   "outputs": [],
   "source": [
    "# Preparamos datos\n",
    "X = df[\"LSTAT\"].values.reshape(-1, 1)\n",
    "y = df[\"MEDV\"].values.reshape(-1, 1)"
   ]
  },
  {
   "cell_type": "code",
   "execution_count": 4,
   "metadata": {},
   "outputs": [],
   "source": [
    "#Creamos un split de datos\n",
    "from sklearn.model_selection import train_test_split\n",
    "X_train, X_test, y_train, y_test = train_test_split(\n",
    "    X, y, test_size=0.33, random_state=100)"
   ]
  },
  {
   "cell_type": "code",
   "execution_count": 5,
   "metadata": {},
   "outputs": [],
   "source": [
    "from sklearn.linear_model import LinearRegression\n",
    "#Creando el modelo y entrenando\n",
    "reg = LinearRegression().fit(X_train,y_train)\n",
    "#Prediciendo valores de entrenamiento\n",
    "y_train_hat = reg.predict(X_train)\n",
    "#Prediciendo valores de validación\n",
    "y_test_hat = reg.predict(X_test)"
   ]
  },
  {
   "cell_type": "code",
   "execution_count": 6,
   "metadata": {},
   "outputs": [
    {
     "data": {
      "text/plain": [
       "[<matplotlib.lines.Line2D at 0x24a9040eac8>]"
      ]
     },
     "execution_count": 6,
     "metadata": {},
     "output_type": "execute_result"
    },
    {
     "data": {
      "image/png": "[encoded data removed]",
      "text/plain": [
       "<Figure size 432x288 with 1 Axes>"
      ]
     },
     "metadata": {
      "needs_background": "light"
     },
     "output_type": "display_data"
    }
   ],
   "source": [
    "import matplotlib.pyplot as plt\n",
    "import numpy as np\n",
    "# Le decimos a jupyter que grafique en  el cuaderno\n",
    "%matplotlib inline\n",
    "# Creamos un scatter plot con los datos de entrenamiento\n",
    "plt.scatter(X_train, y_train)\n",
    "# Creamos un scatter plot con los datos de validación\n",
    "plt.scatter(X_test, y_test)\n",
    "# En X_plot guardamos valores distribuidos entre 0 y 40\n",
    "X_plot = np.linspace(0,40).reshape(-1, 1)\n",
    "# Con el modelo predecimos X_plot\n",
    "y_plot = reg.predict(X_plot)\n",
    "# Graficamos el modelo\n",
    "plt.plot(X_plot, y_plot,\"r--\")"
   ]
  },
  {
   "cell_type": "code",
   "execution_count": 7,
   "metadata": {},
   "outputs": [
    {
     "name": "stdout",
     "output_type": "stream",
     "text": [
      "Entrenamiento 0.5472683211519955\n",
      "Prueba 0.5330003840140723\n"
     ]
    }
   ],
   "source": [
    "# Calculamos el  error\n",
    "from sklearn.metrics import r2_score\n",
    "print(\"Entrenamiento\", r2_score(y_train, y_train_hat))\n",
    "print(\"Prueba\", r2_score(y_test, y_test_hat))"
   ]
  },
  {
   "cell_type": "markdown",
   "metadata": {},
   "source": [
    "## Regresión Multiple\n",
    "\n",
    "En la regresión lineal buscamos predecir una variable de respuesta a partir de una variable independiente. Es natural pensar que pasaría si intentamos utilizar múltiples variables independientes en el mismo modelo."
   ]
  },
  {
   "cell_type": "code",
   "execution_count": 8,
   "metadata": {},
   "outputs": [
    {
     "name": "stdout",
     "output_type": "stream",
     "text": [
      "Entrenamiento 0.5480820218090987\n",
      "Prueba 0.49742229782888503\n"
     ]
    }
   ],
   "source": [
    "# Preparación de datos iniciales\n",
    "X = df[[\"RM\",\"AGE\"]] # aqui ya no necesitamos hacer un reshape pues ya tenemos el número de lineas y columnas definidas\n",
    "y = df[\"MEDV\"].values.reshape(-1, 1)\n",
    "\n",
    "# Hacemos un split de 33%\n",
    "X_train, X_test, y_train, y_test = train_test_split(X, y, test_size=0.33, random_state=100)\n",
    "\n",
    "# Se entrena el modelo\n",
    "reg = LinearRegression().fit(X_train,y_train)\n",
    "\n",
    "# Hacemos las  predicciones\n",
    "y_train_hat = reg.predict(X_train)\n",
    "y_test_hat = reg.predict(X_test)\n",
    "\n",
    "# Calculamos el error\n",
    "print(\"Entrenamiento\", r2_score(y_train, y_train_hat))\n",
    "print(\"Prueba\", r2_score(y_test, y_test_hat))"
   ]
  },
  {
   "cell_type": "markdown",
   "metadata": {},
   "source": [
    "El $R^2$ en entrenamiento subio pero en validación bajo. Probemos  con una variable mas significativa como LSTAT.\n",
    "\n",
    "¿Y con el conjunto de datos completo?\n",
    "\n",
    "---\n",
    "\n",
    "La regresión lineal es de los modelos mas \"simples\" de utilizar.\n",
    "\n",
    "La regresión multiple es una extensión de la regresión lineal.\n",
    "\n",
    "La selección  de variables es un actividad muy importante a la  hora de contruir modelos predictivos."
   ]
  },
  {
   "cell_type": "code",
   "execution_count": 9,
   "metadata": {},
   "outputs": [
    {
     "name": "stdout",
     "output_type": "stream",
     "text": [
      "Entrenamiento 0.5520920948986159\n",
      "Prueba 0.5426647322726055\n"
     ]
    }
   ],
   "source": [
    "# Preparación de datos iniciales\n",
    "X = df[[\"LSTAT\",\"AGE\"]] # aqui ya no necesitamos hacer un reshape pues ya tenemos el número de lineas y columnas definidas\n",
    "y = df[\"MEDV\"].values.reshape(-1, 1)\n",
    "\n",
    "# Hacemos un split de 33%\n",
    "X_train, X_test, y_train, y_test = train_test_split(X, y, test_size=0.33, random_state=100)\n",
    "\n",
    "# Se entrena el modelo\n",
    "reg = LinearRegression().fit(X_train,y_train)\n",
    "\n",
    "# Hacemos las  predicciones\n",
    "y_train_hat = reg.predict(X_train)\n",
    "y_test_hat = reg.predict(X_test)\n",
    "\n",
    "# Calculamos el error\n",
    "print(\"Entrenamiento\", r2_score(y_train, y_train_hat))\n",
    "print(\"Prueba\", r2_score(y_test, y_test_hat))"
   ]
  },
  {
   "cell_type": "code",
   "execution_count": 10,
   "metadata": {},
   "outputs": [
    {
     "name": "stdout",
     "output_type": "stream",
     "text": [
      "Entrenamiento 0.5480820218090987\n",
      "Prueba 0.49742229782888503\n"
     ]
    }
   ],
   "source": [
    "# Preparación de datos iniciales\n",
    "X = df[[\"RM\",\"AGE\"]] # aqui ya no necesitamos hacer un reshape pues ya tenemos el número de lineas y columnas definidas\n",
    "y = df[\"MEDV\"].values.reshape(-1, 1)\n",
    "\n",
    "# Hacemos un split de 33%\n",
    "X_train, X_test, y_train, y_test = train_test_split(X, y, test_size=0.33, random_state=100)\n",
    "\n",
    "# Se entrena el modelo\n",
    "reg = LinearRegression().fit(X_train,y_train)\n",
    "\n",
    "# Hacemos las  predicciones\n",
    "y_train_hat = reg.predict(X_train)\n",
    "y_test_hat = reg.predict(X_test)\n",
    "\n",
    "# Calculamos el error\n",
    "print(\"Entrenamiento\", r2_score(y_train, y_train_hat))\n",
    "print(\"Prueba\", r2_score(y_test, y_test_hat))"
   ]
  },
  {
   "cell_type": "code",
   "execution_count": 11,
   "metadata": {},
   "outputs": [
    {
     "name": "stdout",
     "output_type": "stream",
     "text": [
      "Entrenamiento 0.6453978719945987\n",
      "Prueba 0.6204753894496777\n"
     ]
    }
   ],
   "source": [
    "# Preparación de datos iniciales\n",
    "X = df[[\"RM\",\"LSTAT\"]] # aqui ya no necesitamos hacer un reshape pues ya tenemos el número de lineas y columnas definidas\n",
    "y = df[\"MEDV\"].values.reshape(-1, 1)\n",
    "\n",
    "# Hacemos un split de 33%\n",
    "X_train, X_test, y_train, y_test = train_test_split(X, y, test_size=0.33, random_state=100)\n",
    "\n",
    "# Se entrena el modelo\n",
    "reg = LinearRegression().fit(X_train,y_train)\n",
    "\n",
    "# Hacemos las  predicciones\n",
    "y_train_hat = reg.predict(X_train)\n",
    "y_test_hat = reg.predict(X_test)\n",
    "\n",
    "# Calculamos el error\n",
    "print(\"Entrenamiento\", r2_score(y_train, y_train_hat))\n",
    "print(\"Prueba\", r2_score(y_test, y_test_hat))"
   ]
  },
  {
   "cell_type": "code",
   "execution_count": 13,
   "metadata": {},
   "outputs": [
    {
     "name": "stdout",
     "output_type": "stream",
     "text": [
      "Entrenamiento 0.7581323045862294\n",
      "Prueba 0.6975641751193851\n"
     ]
    }
   ],
   "source": [
    "# Preparación de datos iniciales\n",
    "X = df.drop(\"MEDV\", axis= 1) # AHORA VAMOS A COGER TODAS LAS VARIABLES MENOR MEDV QUE LO SACAMOS CON UN .drop \n",
    "                          # indicadole que son con columna con axis = 1\n",
    "\n",
    "y = df[\"MEDV\"].values.reshape(-1, 1)\n",
    "\n",
    "# Hacemos un split de 33%\n",
    "X_train, X_test, y_train, y_test = train_test_split(X, y, test_size=0.33, random_state=100)\n",
    "\n",
    "# Se entrena el modelo\n",
    "reg = LinearRegression().fit(X_train,y_train)\n",
    "\n",
    "# Hacemos las  predicciones\n",
    "y_train_hat = reg.predict(X_train)\n",
    "y_test_hat = reg.predict(X_test)\n",
    "\n",
    "# Calculamos el error\n",
    "print(\"Entrenamiento\", r2_score(y_train, y_train_hat))\n",
    "print(\"Prueba\", r2_score(y_test, y_test_hat))"
   ]
  },
  {
   "cell_type": "code",
   "execution_count": 15,
   "metadata": {},
   "outputs": [
    {
     "name": "stdout",
     "output_type": "stream",
     "text": [
      "Entrenamiento 0.7522680521704354\n",
      "Prueba 0.6944820133786179\n"
     ]
    }
   ],
   "source": [
    "# Preparación de datos iniciales\n",
    "X = df.drop([\"MEDV\",\"CHAS\"], axis= 1) # AHORA VAMOS A COGER TODAS LAS VARIABLES MENOR MEDV QUE LO SACAMOS CON UN .drop \n",
    "                          # indicadole que son con columna con axis = 1\n",
    "\n",
    "y = df[\"MEDV\"].values.reshape(-1, 1)\n",
    "\n",
    "# Hacemos un split de 33%\n",
    "X_train, X_test, y_train, y_test = train_test_split(X, y, test_size=0.33, random_state=100)\n",
    "\n",
    "# Se entrena el modelo\n",
    "reg = LinearRegression().fit(X_train,y_train)\n",
    "\n",
    "# Hacemos las  predicciones\n",
    "y_train_hat = reg.predict(X_train)\n",
    "y_test_hat = reg.predict(X_test)\n",
    "\n",
    "# Calculamos el error\n",
    "print(\"Entrenamiento\", r2_score(y_train, y_train_hat))\n",
    "print(\"Prueba\", r2_score(y_test, y_test_hat))"
   ]
  },
  {
   "cell_type": "code",
   "execution_count": null,
   "metadata": {},
   "outputs": [],
   "source": []
  }
 ],
 "metadata": {
  "kernelspec": {
   "display_name": "Python 3",
   "language": "python",
   "name": "python3"
  },
  "language_info": {
   "codemirror_mode": {
    "name": "ipython",
    "version": 3
   },
   "file_extension": ".py",
   "mimetype": "text/x-python",
   "name": "python",
   "nbconvert_exporter": "python",
   "pygments_lexer": "ipython3",
   "version": "3.7.3"
  }
 },
 "nbformat": 4,
 "nbformat_minor": 2
}
