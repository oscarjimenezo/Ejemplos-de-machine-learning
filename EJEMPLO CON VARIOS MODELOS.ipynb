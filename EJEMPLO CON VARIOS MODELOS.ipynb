{
 "cells": [
  {
   "cell_type": "markdown",
   "metadata": {},
   "source": [
    "# Actividad semana 3"
   ]
  },
  {
   "cell_type": "markdown",
   "metadata": {},
   "source": [
    "### 1. Abrir el conjunto de datos Enfermedad Cardiovascular con ayuda de la librería Pandas utilizando un cuaderno nuevo de Pyth"
   ]
  },
  {
   "cell_type": "code",
   "execution_count": 1,
   "metadata": {},
   "outputs": [
    {
     "data": {
      "text/html": [
       "<div>\n",
       "<style scoped>\n",
       "    .dataframe tbody tr th:only-of-type {\n",
       "        vertical-align: middle;\n",
       "    }\n",
       "\n",
       "    .dataframe tbody tr th {\n",
       "        vertical-align: top;\n",
       "    }\n",
       "\n",
       "    .dataframe thead th {\n",
       "        text-align: right;\n",
       "    }\n",
       "</style>\n",
       "<table border=\"1\" class=\"dataframe\">\n",
       "  <thead>\n",
       "    <tr style=\"text-align: right;\">\n",
       "      <th></th>\n",
       "      <th>id</th>\n",
       "      <th>age</th>\n",
       "      <th>gender</th>\n",
       "      <th>height</th>\n",
       "      <th>weight</th>\n",
       "      <th>ap_hi</th>\n",
       "      <th>ap_lo</th>\n",
       "      <th>cholesterol</th>\n",
       "      <th>gluc</th>\n",
       "      <th>smoke</th>\n",
       "      <th>alco</th>\n",
       "      <th>active</th>\n",
       "      <th>cardio</th>\n",
       "    </tr>\n",
       "  </thead>\n",
       "  <tbody>\n",
       "    <tr>\n",
       "      <th>0</th>\n",
       "      <td>0</td>\n",
       "      <td>18393</td>\n",
       "      <td>2</td>\n",
       "      <td>168</td>\n",
       "      <td>62.0</td>\n",
       "      <td>110</td>\n",
       "      <td>80</td>\n",
       "      <td>1</td>\n",
       "      <td>1</td>\n",
       "      <td>0</td>\n",
       "      <td>0</td>\n",
       "      <td>1</td>\n",
       "      <td>0</td>\n",
       "    </tr>\n",
       "    <tr>\n",
       "      <th>1</th>\n",
       "      <td>1</td>\n",
       "      <td>20228</td>\n",
       "      <td>1</td>\n",
       "      <td>156</td>\n",
       "      <td>85.0</td>\n",
       "      <td>140</td>\n",
       "      <td>90</td>\n",
       "      <td>3</td>\n",
       "      <td>1</td>\n",
       "      <td>0</td>\n",
       "      <td>0</td>\n",
       "      <td>1</td>\n",
       "      <td>1</td>\n",
       "    </tr>\n",
       "    <tr>\n",
       "      <th>2</th>\n",
       "      <td>2</td>\n",
       "      <td>18857</td>\n",
       "      <td>1</td>\n",
       "      <td>165</td>\n",
       "      <td>64.0</td>\n",
       "      <td>130</td>\n",
       "      <td>70</td>\n",
       "      <td>3</td>\n",
       "      <td>1</td>\n",
       "      <td>0</td>\n",
       "      <td>0</td>\n",
       "      <td>0</td>\n",
       "      <td>1</td>\n",
       "    </tr>\n",
       "    <tr>\n",
       "      <th>3</th>\n",
       "      <td>3</td>\n",
       "      <td>17623</td>\n",
       "      <td>2</td>\n",
       "      <td>169</td>\n",
       "      <td>82.0</td>\n",
       "      <td>150</td>\n",
       "      <td>100</td>\n",
       "      <td>1</td>\n",
       "      <td>1</td>\n",
       "      <td>0</td>\n",
       "      <td>0</td>\n",
       "      <td>1</td>\n",
       "      <td>1</td>\n",
       "    </tr>\n",
       "    <tr>\n",
       "      <th>4</th>\n",
       "      <td>4</td>\n",
       "      <td>17474</td>\n",
       "      <td>1</td>\n",
       "      <td>156</td>\n",
       "      <td>56.0</td>\n",
       "      <td>100</td>\n",
       "      <td>60</td>\n",
       "      <td>1</td>\n",
       "      <td>1</td>\n",
       "      <td>0</td>\n",
       "      <td>0</td>\n",
       "      <td>0</td>\n",
       "      <td>0</td>\n",
       "    </tr>\n",
       "  </tbody>\n",
       "</table>\n",
       "</div>"
      ],
      "text/plain": [
       "   id    age  gender  height  weight  ap_hi  ap_lo  cholesterol  gluc  smoke  \\\n",
       "0   0  18393       2     168    62.0    110     80            1     1      0   \n",
       "1   1  20228       1     156    85.0    140     90            3     1      0   \n",
       "2   2  18857       1     165    64.0    130     70            3     1      0   \n",
       "3   3  17623       2     169    82.0    150    100            1     1      0   \n",
       "4   4  17474       1     156    56.0    100     60            1     1      0   \n",
       "\n",
       "   alco  active  cardio  \n",
       "0     0       1       0  \n",
       "1     0       1       1  \n",
       "2     0       0       1  \n",
       "3     0       1       1  \n",
       "4     0       0       0  "
      ]
     },
     "execution_count": 1,
     "metadata": {},
     "output_type": "execute_result"
    }
   ],
   "source": [
    "import pandas as pd\n",
    "import numpy as np\n",
    "df = pd.read_csv('cardio_train.csv', sep=\";\")\n",
    "df.head()"
   ]
  },
  {
   "cell_type": "code",
   "execution_count": 2,
   "metadata": {},
   "outputs": [],
   "source": [
    "# id: ID number\n",
    "# age: in days\n",
    "# gender: 1 - women, 2 - men\n",
    "# height: cm\n",
    "# weight: kg\n",
    "# ap_hi: Systolic blood pressure\n",
    "# ap_lo: Diastolic blood pressure\n",
    "# cholesterol: 1: normal, 2: above normal, 3: well above normal\n",
    "# gluc1: normal, 2: above normal, 3: well above normal\n",
    "# smoke: whether patient smokes or not\n",
    "# alco: Binary feature\n",
    "# active: Binary feature\n",
    "# cardio: Target variable"
   ]
  },
  {
   "cell_type": "markdown",
   "metadata": {},
   "source": [
    "### 2. Preparar los datos utilizando las variables Dummy para representar las columnas que tengan variables donde existan dos o más categorías diferentes. Recuerda, para que sea posible trabajar con los modelos todas las variables deben de ser numéricas."
   ]
  },
  {
   "cell_type": "code",
   "execution_count": 3,
   "metadata": {},
   "outputs": [],
   "source": [
    "# nuestra variable dependiente será si sufrirá o no de problemas cardiovasculares, es decir, la variable 'cardio' \n",
    "# será nuestra 'y'"
   ]
  },
  {
   "cell_type": "code",
   "execution_count": 4,
   "metadata": {},
   "outputs": [],
   "source": [
    "df['gender'] = df['gender'].replace(1, 'women').replace(2, 'men')\n",
    "df['cholesterol'] = df['cholesterol'].replace(1, 'normal').replace(2, 'above normal').replace(3, 'well above normal')\n",
    "df['gluc'] = df['gluc'].replace(1, 'normal').replace(2, 'above normal').replace(3, 'well above normal')\n",
    "df['smoke'] = df['smoke'].replace(0, 'no').replace(1, 'si')\n",
    "df['alco'] = df['alco'].replace(0, 'no').replace(1, 'si')\n",
    "df['active'] = df['active'].replace(0, 'no').replace(1, 'si')"
   ]
  },
  {
   "cell_type": "code",
   "execution_count": 5,
   "metadata": {},
   "outputs": [
    {
     "data": {
      "text/html": [
       "<div>\n",
       "<style scoped>\n",
       "    .dataframe tbody tr th:only-of-type {\n",
       "        vertical-align: middle;\n",
       "    }\n",
       "\n",
       "    .dataframe tbody tr th {\n",
       "        vertical-align: top;\n",
       "    }\n",
       "\n",
       "    .dataframe thead th {\n",
       "        text-align: right;\n",
       "    }\n",
       "</style>\n",
       "<table border=\"1\" class=\"dataframe\">\n",
       "  <thead>\n",
       "    <tr style=\"text-align: right;\">\n",
       "      <th></th>\n",
       "      <th>id</th>\n",
       "      <th>age</th>\n",
       "      <th>gender</th>\n",
       "      <th>height</th>\n",
       "      <th>weight</th>\n",
       "      <th>ap_hi</th>\n",
       "      <th>ap_lo</th>\n",
       "      <th>cholesterol</th>\n",
       "      <th>gluc</th>\n",
       "      <th>smoke</th>\n",
       "      <th>alco</th>\n",
       "      <th>active</th>\n",
       "      <th>cardio</th>\n",
       "    </tr>\n",
       "  </thead>\n",
       "  <tbody>\n",
       "    <tr>\n",
       "      <th>0</th>\n",
       "      <td>0</td>\n",
       "      <td>18393</td>\n",
       "      <td>men</td>\n",
       "      <td>168</td>\n",
       "      <td>62.0</td>\n",
       "      <td>110</td>\n",
       "      <td>80</td>\n",
       "      <td>normal</td>\n",
       "      <td>normal</td>\n",
       "      <td>no</td>\n",
       "      <td>no</td>\n",
       "      <td>si</td>\n",
       "      <td>0</td>\n",
       "    </tr>\n",
       "    <tr>\n",
       "      <th>1</th>\n",
       "      <td>1</td>\n",
       "      <td>20228</td>\n",
       "      <td>women</td>\n",
       "      <td>156</td>\n",
       "      <td>85.0</td>\n",
       "      <td>140</td>\n",
       "      <td>90</td>\n",
       "      <td>well above normal</td>\n",
       "      <td>normal</td>\n",
       "      <td>no</td>\n",
       "      <td>no</td>\n",
       "      <td>si</td>\n",
       "      <td>1</td>\n",
       "    </tr>\n",
       "    <tr>\n",
       "      <th>2</th>\n",
       "      <td>2</td>\n",
       "      <td>18857</td>\n",
       "      <td>women</td>\n",
       "      <td>165</td>\n",
       "      <td>64.0</td>\n",
       "      <td>130</td>\n",
       "      <td>70</td>\n",
       "      <td>well above normal</td>\n",
       "      <td>normal</td>\n",
       "      <td>no</td>\n",
       "      <td>no</td>\n",
       "      <td>no</td>\n",
       "      <td>1</td>\n",
       "    </tr>\n",
       "    <tr>\n",
       "      <th>3</th>\n",
       "      <td>3</td>\n",
       "      <td>17623</td>\n",
       "      <td>men</td>\n",
       "      <td>169</td>\n",
       "      <td>82.0</td>\n",
       "      <td>150</td>\n",
       "      <td>100</td>\n",
       "      <td>normal</td>\n",
       "      <td>normal</td>\n",
       "      <td>no</td>\n",
       "      <td>no</td>\n",
       "      <td>si</td>\n",
       "      <td>1</td>\n",
       "    </tr>\n",
       "    <tr>\n",
       "      <th>4</th>\n",
       "      <td>4</td>\n",
       "      <td>17474</td>\n",
       "      <td>women</td>\n",
       "      <td>156</td>\n",
       "      <td>56.0</td>\n",
       "      <td>100</td>\n",
       "      <td>60</td>\n",
       "      <td>normal</td>\n",
       "      <td>normal</td>\n",
       "      <td>no</td>\n",
       "      <td>no</td>\n",
       "      <td>no</td>\n",
       "      <td>0</td>\n",
       "    </tr>\n",
       "  </tbody>\n",
       "</table>\n",
       "</div>"
      ],
      "text/plain": [
       "   id    age gender  height  weight  ap_hi  ap_lo        cholesterol    gluc  \\\n",
       "0   0  18393    men     168    62.0    110     80             normal  normal   \n",
       "1   1  20228  women     156    85.0    140     90  well above normal  normal   \n",
       "2   2  18857  women     165    64.0    130     70  well above normal  normal   \n",
       "3   3  17623    men     169    82.0    150    100             normal  normal   \n",
       "4   4  17474  women     156    56.0    100     60             normal  normal   \n",
       "\n",
       "  smoke alco active  cardio  \n",
       "0    no   no     si       0  \n",
       "1    no   no     si       1  \n",
       "2    no   no     no       1  \n",
       "3    no   no     si       1  \n",
       "4    no   no     no       0  "
      ]
     },
     "execution_count": 5,
     "metadata": {},
     "output_type": "execute_result"
    }
   ],
   "source": [
    "df.head()"
   ]
  },
  {
   "cell_type": "code",
   "execution_count": 6,
   "metadata": {},
   "outputs": [
    {
     "data": {
      "text/plain": [
       "(70000, 13)"
      ]
     },
     "execution_count": 6,
     "metadata": {},
     "output_type": "execute_result"
    }
   ],
   "source": [
    "df.shape"
   ]
  },
  {
   "cell_type": "code",
   "execution_count": 7,
   "metadata": {},
   "outputs": [
    {
     "data": {
      "text/plain": [
       "['gender', 'cholesterol', 'gluc', 'smoke', 'alco', 'active']"
      ]
     },
     "execution_count": 7,
     "metadata": {},
     "output_type": "execute_result"
    }
   ],
   "source": [
    "# Vemos que las columnas categóricas son 'gender', 'cholesterol', 'gluc', 'smoke', 'alco', active' y 'cardio'\n",
    "# Creo una serie con esos elementos y se lo paso al df para filtrar por dummy\n",
    "columns_to_dummy = ['gender', 'cholesterol', 'gluc', 'smoke', 'alco', 'active']\n",
    "columns_to_dummy"
   ]
  },
  {
   "cell_type": "code",
   "execution_count": 8,
   "metadata": {},
   "outputs": [
    {
     "data": {
      "text/html": [
       "<div>\n",
       "<style scoped>\n",
       "    .dataframe tbody tr th:only-of-type {\n",
       "        vertical-align: middle;\n",
       "    }\n",
       "\n",
       "    .dataframe tbody tr th {\n",
       "        vertical-align: top;\n",
       "    }\n",
       "\n",
       "    .dataframe thead th {\n",
       "        text-align: right;\n",
       "    }\n",
       "</style>\n",
       "<table border=\"1\" class=\"dataframe\">\n",
       "  <thead>\n",
       "    <tr style=\"text-align: right;\">\n",
       "      <th></th>\n",
       "      <th>id</th>\n",
       "      <th>age</th>\n",
       "      <th>height</th>\n",
       "      <th>weight</th>\n",
       "      <th>ap_hi</th>\n",
       "      <th>ap_lo</th>\n",
       "      <th>cardio</th>\n",
       "      <th>gender_men</th>\n",
       "      <th>gender_women</th>\n",
       "      <th>cholesterol_above normal</th>\n",
       "      <th>...</th>\n",
       "      <th>cholesterol_well above normal</th>\n",
       "      <th>gluc_above normal</th>\n",
       "      <th>gluc_normal</th>\n",
       "      <th>gluc_well above normal</th>\n",
       "      <th>smoke_no</th>\n",
       "      <th>smoke_si</th>\n",
       "      <th>alco_no</th>\n",
       "      <th>alco_si</th>\n",
       "      <th>active_no</th>\n",
       "      <th>active_si</th>\n",
       "    </tr>\n",
       "  </thead>\n",
       "  <tbody>\n",
       "    <tr>\n",
       "      <th>0</th>\n",
       "      <td>0</td>\n",
       "      <td>18393</td>\n",
       "      <td>168</td>\n",
       "      <td>62.0</td>\n",
       "      <td>110</td>\n",
       "      <td>80</td>\n",
       "      <td>0</td>\n",
       "      <td>1</td>\n",
       "      <td>0</td>\n",
       "      <td>0</td>\n",
       "      <td>...</td>\n",
       "      <td>0</td>\n",
       "      <td>0</td>\n",
       "      <td>1</td>\n",
       "      <td>0</td>\n",
       "      <td>1</td>\n",
       "      <td>0</td>\n",
       "      <td>1</td>\n",
       "      <td>0</td>\n",
       "      <td>0</td>\n",
       "      <td>1</td>\n",
       "    </tr>\n",
       "    <tr>\n",
       "      <th>1</th>\n",
       "      <td>1</td>\n",
       "      <td>20228</td>\n",
       "      <td>156</td>\n",
       "      <td>85.0</td>\n",
       "      <td>140</td>\n",
       "      <td>90</td>\n",
       "      <td>1</td>\n",
       "      <td>0</td>\n",
       "      <td>1</td>\n",
       "      <td>0</td>\n",
       "      <td>...</td>\n",
       "      <td>1</td>\n",
       "      <td>0</td>\n",
       "      <td>1</td>\n",
       "      <td>0</td>\n",
       "      <td>1</td>\n",
       "      <td>0</td>\n",
       "      <td>1</td>\n",
       "      <td>0</td>\n",
       "      <td>0</td>\n",
       "      <td>1</td>\n",
       "    </tr>\n",
       "    <tr>\n",
       "      <th>2</th>\n",
       "      <td>2</td>\n",
       "      <td>18857</td>\n",
       "      <td>165</td>\n",
       "      <td>64.0</td>\n",
       "      <td>130</td>\n",
       "      <td>70</td>\n",
       "      <td>1</td>\n",
       "      <td>0</td>\n",
       "      <td>1</td>\n",
       "      <td>0</td>\n",
       "      <td>...</td>\n",
       "      <td>1</td>\n",
       "      <td>0</td>\n",
       "      <td>1</td>\n",
       "      <td>0</td>\n",
       "      <td>1</td>\n",
       "      <td>0</td>\n",
       "      <td>1</td>\n",
       "      <td>0</td>\n",
       "      <td>1</td>\n",
       "      <td>0</td>\n",
       "    </tr>\n",
       "    <tr>\n",
       "      <th>3</th>\n",
       "      <td>3</td>\n",
       "      <td>17623</td>\n",
       "      <td>169</td>\n",
       "      <td>82.0</td>\n",
       "      <td>150</td>\n",
       "      <td>100</td>\n",
       "      <td>1</td>\n",
       "      <td>1</td>\n",
       "      <td>0</td>\n",
       "      <td>0</td>\n",
       "      <td>...</td>\n",
       "      <td>0</td>\n",
       "      <td>0</td>\n",
       "      <td>1</td>\n",
       "      <td>0</td>\n",
       "      <td>1</td>\n",
       "      <td>0</td>\n",
       "      <td>1</td>\n",
       "      <td>0</td>\n",
       "      <td>0</td>\n",
       "      <td>1</td>\n",
       "    </tr>\n",
       "    <tr>\n",
       "      <th>4</th>\n",
       "      <td>4</td>\n",
       "      <td>17474</td>\n",
       "      <td>156</td>\n",
       "      <td>56.0</td>\n",
       "      <td>100</td>\n",
       "      <td>60</td>\n",
       "      <td>0</td>\n",
       "      <td>0</td>\n",
       "      <td>1</td>\n",
       "      <td>0</td>\n",
       "      <td>...</td>\n",
       "      <td>0</td>\n",
       "      <td>0</td>\n",
       "      <td>1</td>\n",
       "      <td>0</td>\n",
       "      <td>1</td>\n",
       "      <td>0</td>\n",
       "      <td>1</td>\n",
       "      <td>0</td>\n",
       "      <td>1</td>\n",
       "      <td>0</td>\n",
       "    </tr>\n",
       "  </tbody>\n",
       "</table>\n",
       "<p>5 rows × 21 columns</p>\n",
       "</div>"
      ],
      "text/plain": [
       "   id    age  height  weight  ap_hi  ap_lo  cardio  gender_men  gender_women  \\\n",
       "0   0  18393     168    62.0    110     80       0           1             0   \n",
       "1   1  20228     156    85.0    140     90       1           0             1   \n",
       "2   2  18857     165    64.0    130     70       1           0             1   \n",
       "3   3  17623     169    82.0    150    100       1           1             0   \n",
       "4   4  17474     156    56.0    100     60       0           0             1   \n",
       "\n",
       "   cholesterol_above normal  ...  cholesterol_well above normal  \\\n",
       "0                         0  ...                              0   \n",
       "1                         0  ...                              1   \n",
       "2                         0  ...                              1   \n",
       "3                         0  ...                              0   \n",
       "4                         0  ...                              0   \n",
       "\n",
       "   gluc_above normal  gluc_normal  gluc_well above normal  smoke_no  smoke_si  \\\n",
       "0                  0            1                       0         1         0   \n",
       "1                  0            1                       0         1         0   \n",
       "2                  0            1                       0         1         0   \n",
       "3                  0            1                       0         1         0   \n",
       "4                  0            1                       0         1         0   \n",
       "\n",
       "   alco_no  alco_si  active_no  active_si  \n",
       "0        1        0          0          1  \n",
       "1        1        0          0          1  \n",
       "2        1        0          1          0  \n",
       "3        1        0          0          1  \n",
       "4        1        0          1          0  \n",
       "\n",
       "[5 rows x 21 columns]"
      ]
     },
     "execution_count": 8,
     "metadata": {},
     "output_type": "execute_result"
    }
   ],
   "source": [
    "df_dummy = pd.get_dummies(df, prefix=columns_to_dummy)\n",
    "df_dummy.head()"
   ]
  },
  {
   "cell_type": "code",
   "execution_count": 9,
   "metadata": {},
   "outputs": [
    {
     "data": {
      "text/plain": [
       "(70000, 21)"
      ]
     },
     "execution_count": 9,
     "metadata": {},
     "output_type": "execute_result"
    }
   ],
   "source": [
    "df_dummy.shape"
   ]
  },
  {
   "cell_type": "code",
   "execution_count": 10,
   "metadata": {},
   "outputs": [
    {
     "data": {
      "text/plain": [
       "Index(['id', 'age', 'height', 'weight', 'ap_hi', 'ap_lo', 'cardio',\n",
       "       'gender_men', 'gender_women', 'cholesterol_above normal',\n",
       "       'cholesterol_normal', 'cholesterol_well above normal',\n",
       "       'gluc_above normal', 'gluc_normal', 'gluc_well above normal',\n",
       "       'smoke_no', 'smoke_si', 'alco_no', 'alco_si', 'active_no', 'active_si'],\n",
       "      dtype='object')"
      ]
     },
     "execution_count": 10,
     "metadata": {},
     "output_type": "execute_result"
    }
   ],
   "source": [
    "df_dummy.columns"
   ]
  },
  {
   "cell_type": "code",
   "execution_count": 11,
   "metadata": {},
   "outputs": [
    {
     "data": {
      "text/html": [
       "<div>\n",
       "<style scoped>\n",
       "    .dataframe tbody tr th:only-of-type {\n",
       "        vertical-align: middle;\n",
       "    }\n",
       "\n",
       "    .dataframe tbody tr th {\n",
       "        vertical-align: top;\n",
       "    }\n",
       "\n",
       "    .dataframe thead th {\n",
       "        text-align: right;\n",
       "    }\n",
       "</style>\n",
       "<table border=\"1\" class=\"dataframe\">\n",
       "  <thead>\n",
       "    <tr style=\"text-align: right;\">\n",
       "      <th></th>\n",
       "      <th>id</th>\n",
       "      <th>age</th>\n",
       "      <th>height</th>\n",
       "      <th>weight</th>\n",
       "      <th>ap_hi</th>\n",
       "      <th>ap_lo</th>\n",
       "      <th>cardio</th>\n",
       "      <th>gender_women</th>\n",
       "      <th>cholesterol_normal</th>\n",
       "      <th>cholesterol_well above normal</th>\n",
       "      <th>gluc_normal</th>\n",
       "      <th>gluc_well above normal</th>\n",
       "      <th>smoke_si</th>\n",
       "      <th>alco_si</th>\n",
       "      <th>active_si</th>\n",
       "    </tr>\n",
       "  </thead>\n",
       "  <tbody>\n",
       "    <tr>\n",
       "      <th>0</th>\n",
       "      <td>0</td>\n",
       "      <td>18393</td>\n",
       "      <td>168</td>\n",
       "      <td>62.0</td>\n",
       "      <td>110</td>\n",
       "      <td>80</td>\n",
       "      <td>0</td>\n",
       "      <td>0</td>\n",
       "      <td>1</td>\n",
       "      <td>0</td>\n",
       "      <td>1</td>\n",
       "      <td>0</td>\n",
       "      <td>0</td>\n",
       "      <td>0</td>\n",
       "      <td>1</td>\n",
       "    </tr>\n",
       "    <tr>\n",
       "      <th>1</th>\n",
       "      <td>1</td>\n",
       "      <td>20228</td>\n",
       "      <td>156</td>\n",
       "      <td>85.0</td>\n",
       "      <td>140</td>\n",
       "      <td>90</td>\n",
       "      <td>1</td>\n",
       "      <td>1</td>\n",
       "      <td>0</td>\n",
       "      <td>1</td>\n",
       "      <td>1</td>\n",
       "      <td>0</td>\n",
       "      <td>0</td>\n",
       "      <td>0</td>\n",
       "      <td>1</td>\n",
       "    </tr>\n",
       "    <tr>\n",
       "      <th>2</th>\n",
       "      <td>2</td>\n",
       "      <td>18857</td>\n",
       "      <td>165</td>\n",
       "      <td>64.0</td>\n",
       "      <td>130</td>\n",
       "      <td>70</td>\n",
       "      <td>1</td>\n",
       "      <td>1</td>\n",
       "      <td>0</td>\n",
       "      <td>1</td>\n",
       "      <td>1</td>\n",
       "      <td>0</td>\n",
       "      <td>0</td>\n",
       "      <td>0</td>\n",
       "      <td>0</td>\n",
       "    </tr>\n",
       "    <tr>\n",
       "      <th>3</th>\n",
       "      <td>3</td>\n",
       "      <td>17623</td>\n",
       "      <td>169</td>\n",
       "      <td>82.0</td>\n",
       "      <td>150</td>\n",
       "      <td>100</td>\n",
       "      <td>1</td>\n",
       "      <td>0</td>\n",
       "      <td>1</td>\n",
       "      <td>0</td>\n",
       "      <td>1</td>\n",
       "      <td>0</td>\n",
       "      <td>0</td>\n",
       "      <td>0</td>\n",
       "      <td>1</td>\n",
       "    </tr>\n",
       "    <tr>\n",
       "      <th>4</th>\n",
       "      <td>4</td>\n",
       "      <td>17474</td>\n",
       "      <td>156</td>\n",
       "      <td>56.0</td>\n",
       "      <td>100</td>\n",
       "      <td>60</td>\n",
       "      <td>0</td>\n",
       "      <td>1</td>\n",
       "      <td>1</td>\n",
       "      <td>0</td>\n",
       "      <td>1</td>\n",
       "      <td>0</td>\n",
       "      <td>0</td>\n",
       "      <td>0</td>\n",
       "      <td>0</td>\n",
       "    </tr>\n",
       "  </tbody>\n",
       "</table>\n",
       "</div>"
      ],
      "text/plain": [
       "   id    age  height  weight  ap_hi  ap_lo  cardio  gender_women  \\\n",
       "0   0  18393     168    62.0    110     80       0             0   \n",
       "1   1  20228     156    85.0    140     90       1             1   \n",
       "2   2  18857     165    64.0    130     70       1             1   \n",
       "3   3  17623     169    82.0    150    100       1             0   \n",
       "4   4  17474     156    56.0    100     60       0             1   \n",
       "\n",
       "   cholesterol_normal  cholesterol_well above normal  gluc_normal  \\\n",
       "0                   1                              0            1   \n",
       "1                   0                              1            1   \n",
       "2                   0                              1            1   \n",
       "3                   1                              0            1   \n",
       "4                   1                              0            1   \n",
       "\n",
       "   gluc_well above normal  smoke_si  alco_si  active_si  \n",
       "0                       0         0        0          1  \n",
       "1                       0         0        0          1  \n",
       "2                       0         0        0          0  \n",
       "3                       0         0        0          1  \n",
       "4                       0         0        0          0  "
      ]
     },
     "execution_count": 11,
     "metadata": {},
     "output_type": "execute_result"
    }
   ],
   "source": [
    "# quitamos la primera columna de los campos 'repetidos'\n",
    "df_dummy = pd.get_dummies(df, prefix=columns_to_dummy, drop_first=True)\n",
    "df_dummy.head()"
   ]
  },
  {
   "cell_type": "markdown",
   "metadata": {},
   "source": [
    "### 3. Identificar, dentro del nuevo conjunto de datos, cuáles son las características más relevantes que impactan más en el resultado. Debes utilizar la librería “sklearn.feature_selection” para realizar este paso."
   ]
  },
  {
   "cell_type": "code",
   "execution_count": 37,
   "metadata": {},
   "outputs": [
    {
     "data": {
      "text/html": [
       "<div>\n",
       "<style scoped>\n",
       "    .dataframe tbody tr th:only-of-type {\n",
       "        vertical-align: middle;\n",
       "    }\n",
       "\n",
       "    .dataframe tbody tr th {\n",
       "        vertical-align: top;\n",
       "    }\n",
       "\n",
       "    .dataframe thead th {\n",
       "        text-align: right;\n",
       "    }\n",
       "</style>\n",
       "<table border=\"1\" class=\"dataframe\">\n",
       "  <thead>\n",
       "    <tr style=\"text-align: right;\">\n",
       "      <th></th>\n",
       "      <th>id</th>\n",
       "      <th>age</th>\n",
       "      <th>height</th>\n",
       "      <th>weight</th>\n",
       "      <th>ap_hi</th>\n",
       "      <th>ap_lo</th>\n",
       "      <th>gender_women</th>\n",
       "      <th>cholesterol_normal</th>\n",
       "      <th>cholesterol_well above normal</th>\n",
       "      <th>gluc_normal</th>\n",
       "      <th>gluc_well above normal</th>\n",
       "      <th>smoke_si</th>\n",
       "      <th>alco_si</th>\n",
       "      <th>active_si</th>\n",
       "    </tr>\n",
       "  </thead>\n",
       "  <tbody>\n",
       "    <tr>\n",
       "      <th>0</th>\n",
       "      <td>0</td>\n",
       "      <td>18393</td>\n",
       "      <td>168</td>\n",
       "      <td>62.0</td>\n",
       "      <td>110</td>\n",
       "      <td>80</td>\n",
       "      <td>0</td>\n",
       "      <td>1</td>\n",
       "      <td>0</td>\n",
       "      <td>1</td>\n",
       "      <td>0</td>\n",
       "      <td>0</td>\n",
       "      <td>0</td>\n",
       "      <td>1</td>\n",
       "    </tr>\n",
       "    <tr>\n",
       "      <th>1</th>\n",
       "      <td>1</td>\n",
       "      <td>20228</td>\n",
       "      <td>156</td>\n",
       "      <td>85.0</td>\n",
       "      <td>140</td>\n",
       "      <td>90</td>\n",
       "      <td>1</td>\n",
       "      <td>0</td>\n",
       "      <td>1</td>\n",
       "      <td>1</td>\n",
       "      <td>0</td>\n",
       "      <td>0</td>\n",
       "      <td>0</td>\n",
       "      <td>1</td>\n",
       "    </tr>\n",
       "    <tr>\n",
       "      <th>2</th>\n",
       "      <td>2</td>\n",
       "      <td>18857</td>\n",
       "      <td>165</td>\n",
       "      <td>64.0</td>\n",
       "      <td>130</td>\n",
       "      <td>70</td>\n",
       "      <td>1</td>\n",
       "      <td>0</td>\n",
       "      <td>1</td>\n",
       "      <td>1</td>\n",
       "      <td>0</td>\n",
       "      <td>0</td>\n",
       "      <td>0</td>\n",
       "      <td>0</td>\n",
       "    </tr>\n",
       "    <tr>\n",
       "      <th>3</th>\n",
       "      <td>3</td>\n",
       "      <td>17623</td>\n",
       "      <td>169</td>\n",
       "      <td>82.0</td>\n",
       "      <td>150</td>\n",
       "      <td>100</td>\n",
       "      <td>0</td>\n",
       "      <td>1</td>\n",
       "      <td>0</td>\n",
       "      <td>1</td>\n",
       "      <td>0</td>\n",
       "      <td>0</td>\n",
       "      <td>0</td>\n",
       "      <td>1</td>\n",
       "    </tr>\n",
       "    <tr>\n",
       "      <th>4</th>\n",
       "      <td>4</td>\n",
       "      <td>17474</td>\n",
       "      <td>156</td>\n",
       "      <td>56.0</td>\n",
       "      <td>100</td>\n",
       "      <td>60</td>\n",
       "      <td>1</td>\n",
       "      <td>1</td>\n",
       "      <td>0</td>\n",
       "      <td>1</td>\n",
       "      <td>0</td>\n",
       "      <td>0</td>\n",
       "      <td>0</td>\n",
       "      <td>0</td>\n",
       "    </tr>\n",
       "  </tbody>\n",
       "</table>\n",
       "</div>"
      ],
      "text/plain": [
       "   id    age  height  weight  ap_hi  ap_lo  gender_women  cholesterol_normal  \\\n",
       "0   0  18393     168    62.0    110     80             0                   1   \n",
       "1   1  20228     156    85.0    140     90             1                   0   \n",
       "2   2  18857     165    64.0    130     70             1                   0   \n",
       "3   3  17623     169    82.0    150    100             0                   1   \n",
       "4   4  17474     156    56.0    100     60             1                   1   \n",
       "\n",
       "   cholesterol_well above normal  gluc_normal  gluc_well above normal  \\\n",
       "0                              0            1                       0   \n",
       "1                              1            1                       0   \n",
       "2                              1            1                       0   \n",
       "3                              0            1                       0   \n",
       "4                              0            1                       0   \n",
       "\n",
       "   smoke_si  alco_si  active_si  \n",
       "0         0        0          1  \n",
       "1         0        0          1  \n",
       "2         0        0          0  \n",
       "3         0        0          1  \n",
       "4         0        0          0  "
      ]
     },
     "execution_count": 37,
     "metadata": {},
     "output_type": "execute_result"
    }
   ],
   "source": [
    "# Pasamos a 'X' todas las variables independiente\n",
    "X = df_dummy.drop(\"cardio\", axis=1)\n",
    "# Pasamos a 'y' la variable dependiente\n",
    "y = df_dummy.cardio\n",
    "\n",
    "X.head()"
   ]
  },
  {
   "cell_type": "code",
   "execution_count": 13,
   "metadata": {},
   "outputs": [
    {
     "data": {
      "text/plain": [
       "0    0\n",
       "1    1\n",
       "2    1\n",
       "3    1\n",
       "4    0\n",
       "Name: cardio, dtype: int64"
      ]
     },
     "execution_count": 13,
     "metadata": {},
     "output_type": "execute_result"
    }
   ],
   "source": [
    "y.head()"
   ]
  },
  {
   "cell_type": "code",
   "execution_count": 14,
   "metadata": {},
   "outputs": [],
   "source": [
    "from sklearn.linear_model import LogisticRegression\n",
    "from sklearn.model_selection import train_test_split\n",
    "# Escalamos nuestros datos\n",
    "from sklearn.preprocessing import MinMaxScaler\n",
    "X_scaler = MinMaxScaler()\n",
    "y_scaler = MinMaxScaler()\n",
    "\n",
    "X = X_scaler.fit_transform(X)\n",
    "y = y_scaler.fit_transform(y.values.reshape(-1, 1))\n",
    "\n",
    "X_train, X_test, y_train, y_test = train_test_split(X, y, test_size=0.33, random_state=103)"
   ]
  },
  {
   "cell_type": "code",
   "execution_count": 15,
   "metadata": {},
   "outputs": [
    {
     "data": {
      "text/plain": [
       "(70000, 15)"
      ]
     },
     "execution_count": 15,
     "metadata": {},
     "output_type": "execute_result"
    }
   ],
   "source": [
    "df_dummy.shape"
   ]
  },
  {
   "cell_type": "code",
   "execution_count": 16,
   "metadata": {},
   "outputs": [
    {
     "data": {
      "text/plain": [
       "(70000, 14)"
      ]
     },
     "execution_count": 16,
     "metadata": {},
     "output_type": "execute_result"
    }
   ],
   "source": [
    "X.shape"
   ]
  },
  {
   "cell_type": "code",
   "execution_count": 17,
   "metadata": {},
   "outputs": [
    {
     "data": {
      "text/plain": [
       "(70000, 1)"
      ]
     },
     "execution_count": 17,
     "metadata": {},
     "output_type": "execute_result"
    }
   ],
   "source": [
    "y.shape"
   ]
  },
  {
   "cell_type": "code",
   "execution_count": 18,
   "metadata": {},
   "outputs": [
    {
     "name": "stderr",
     "output_type": "stream",
     "text": [
      "C:\\Users\\ChMp\\Anaconda3\\lib\\site-packages\\sklearn\\linear_model\\logistic.py:947: ConvergenceWarning: lbfgs failed to converge. Increase the number of iterations.\n",
      "  \"of iterations.\", ConvergenceWarning)\n",
      "C:\\Users\\ChMp\\Anaconda3\\lib\\site-packages\\sklearn\\linear_model\\logistic.py:947: ConvergenceWarning: lbfgs failed to converge. Increase the number of iterations.\n",
      "  \"of iterations.\", ConvergenceWarning)\n",
      "C:\\Users\\ChMp\\Anaconda3\\lib\\site-packages\\sklearn\\linear_model\\logistic.py:947: ConvergenceWarning: lbfgs failed to converge. Increase the number of iterations.\n",
      "  \"of iterations.\", ConvergenceWarning)\n",
      "C:\\Users\\ChMp\\Anaconda3\\lib\\site-packages\\sklearn\\linear_model\\logistic.py:947: ConvergenceWarning: lbfgs failed to converge. Increase the number of iterations.\n",
      "  \"of iterations.\", ConvergenceWarning)\n",
      "C:\\Users\\ChMp\\Anaconda3\\lib\\site-packages\\sklearn\\linear_model\\logistic.py:947: ConvergenceWarning: lbfgs failed to converge. Increase the number of iterations.\n",
      "  \"of iterations.\", ConvergenceWarning)\n"
     ]
    }
   ],
   "source": [
    "# Recursive Feature Elimination o eliminacion de caracteristicas recursivas\n",
    "from sklearn.feature_selection import RFE\n",
    "\n",
    "# creamos nuestro modelo de estimacion\n",
    "estimator = LogisticRegression(solver='lbfgs')\n",
    "\n",
    "# le pasamos nuestro modelo de estimacion\n",
    "selector = RFE(estimator, 3, step=1)\n",
    "\n",
    "selector = selector.fit(X_train, y_train.ravel())"
   ]
  },
  {
   "cell_type": "markdown",
   "metadata": {},
   "source": [
    "### 4. Utilizando la instrucción “print”, mostrar el ranking de cuales son las variables más importantes identificadas en el punto anterior. Posteriormente analizar los resultados y escribir tus conclusiones del por qué estas variables impactan más que otras."
   ]
  },
  {
   "cell_type": "code",
   "execution_count": 45,
   "metadata": {},
   "outputs": [
    {
     "name": "stdout",
     "output_type": "stream",
     "text": [
      "[False False False  True  True  True False False False False False False\n",
      " False False]\n",
      "[12  2  3  1  1  1 11  5  4  9  6 10  8  7]\n",
      "\n",
      "\n",
      "id - 12\n",
      "age - 2\n",
      "height - 3\n",
      "weight - 1\n",
      "ap_hi - 1\n",
      "ap_lo - 1\n",
      "gender_women - 11\n",
      "cholesterol_normal - 5\n",
      "cholesterol_well above normal - 4\n",
      "gluc_normal - 9\n",
      "gluc_well above normal - 6\n",
      "smoke_si - 10\n",
      "alco_si - 8\n",
      "active_si - 7\n"
     ]
    }
   ],
   "source": [
    "print(selector.support_)\n",
    "print(selector.ranking_)\n",
    "X.columns.values\n",
    "print(\"\\n\")\n",
    "for index in range(len(X.columns.values)):\n",
    "    print(str(X.columns.values[index]) + \" - \" + str(selector.ranking_[index]))"
   ]
  },
  {
   "cell_type": "markdown",
   "metadata": {},
   "source": [
    "Según el resultado las 3 variables que más impactan que un paciente tenga una cariopatía son: weight, ap_hi, \n",
    "ap_lo, es decir, el peso, la presión arterial sistólica y la presión arterial diastólica que sin ser por mi parte muy dicho en estas materias médicas, igualmente creo que tiene mucho sentido que estas variables tengan mucha prevalencia en una cardiopatía."
   ]
  },
  {
   "cell_type": "markdown",
   "metadata": {},
   "source": [
    "### 5. Crear un modelo de regresión logística que represente a nuestro conjunto de datos.\n",
    "### 6. Evaluar el modelo usando una curva ROC\n",
    "### 7. Evaluar el modelo usando una curva CAP."
   ]
  },
  {
   "cell_type": "markdown",
   "metadata": {},
   "source": [
    "Undersampling"
   ]
  },
  {
   "cell_type": "code",
   "execution_count": 806,
   "metadata": {},
   "outputs": [
    {
     "data": {
      "text/html": [
       "<div>\n",
       "<style scoped>\n",
       "    .dataframe tbody tr th:only-of-type {\n",
       "        vertical-align: middle;\n",
       "    }\n",
       "\n",
       "    .dataframe tbody tr th {\n",
       "        vertical-align: top;\n",
       "    }\n",
       "\n",
       "    .dataframe thead th {\n",
       "        text-align: right;\n",
       "    }\n",
       "</style>\n",
       "<table border=\"1\" class=\"dataframe\">\n",
       "  <thead>\n",
       "    <tr style=\"text-align: right;\">\n",
       "      <th></th>\n",
       "      <th>id</th>\n",
       "      <th>age</th>\n",
       "      <th>gender</th>\n",
       "      <th>height</th>\n",
       "      <th>weight</th>\n",
       "      <th>ap_hi</th>\n",
       "      <th>ap_lo</th>\n",
       "      <th>cholesterol</th>\n",
       "      <th>gluc</th>\n",
       "      <th>smoke</th>\n",
       "      <th>alco</th>\n",
       "      <th>active</th>\n",
       "      <th>cardio</th>\n",
       "    </tr>\n",
       "  </thead>\n",
       "  <tbody>\n",
       "    <tr>\n",
       "      <th>22105</th>\n",
       "      <td>31576</td>\n",
       "      <td>16712</td>\n",
       "      <td>men</td>\n",
       "      <td>163</td>\n",
       "      <td>67.0</td>\n",
       "      <td>110</td>\n",
       "      <td>80</td>\n",
       "      <td>normal</td>\n",
       "      <td>normal</td>\n",
       "      <td>no</td>\n",
       "      <td>no</td>\n",
       "      <td>no</td>\n",
       "      <td>1</td>\n",
       "    </tr>\n",
       "    <tr>\n",
       "      <th>25111</th>\n",
       "      <td>35854</td>\n",
       "      <td>16801</td>\n",
       "      <td>women</td>\n",
       "      <td>151</td>\n",
       "      <td>52.0</td>\n",
       "      <td>180</td>\n",
       "      <td>90</td>\n",
       "      <td>above normal</td>\n",
       "      <td>above normal</td>\n",
       "      <td>no</td>\n",
       "      <td>no</td>\n",
       "      <td>no</td>\n",
       "      <td>0</td>\n",
       "    </tr>\n",
       "    <tr>\n",
       "      <th>21491</th>\n",
       "      <td>30701</td>\n",
       "      <td>15304</td>\n",
       "      <td>women</td>\n",
       "      <td>157</td>\n",
       "      <td>55.0</td>\n",
       "      <td>120</td>\n",
       "      <td>80</td>\n",
       "      <td>normal</td>\n",
       "      <td>normal</td>\n",
       "      <td>no</td>\n",
       "      <td>no</td>\n",
       "      <td>si</td>\n",
       "      <td>0</td>\n",
       "    </tr>\n",
       "    <tr>\n",
       "      <th>65034</th>\n",
       "      <td>92820</td>\n",
       "      <td>20476</td>\n",
       "      <td>women</td>\n",
       "      <td>155</td>\n",
       "      <td>100.0</td>\n",
       "      <td>160</td>\n",
       "      <td>80</td>\n",
       "      <td>normal</td>\n",
       "      <td>above normal</td>\n",
       "      <td>no</td>\n",
       "      <td>no</td>\n",
       "      <td>no</td>\n",
       "      <td>1</td>\n",
       "    </tr>\n",
       "    <tr>\n",
       "      <th>55288</th>\n",
       "      <td>78867</td>\n",
       "      <td>20427</td>\n",
       "      <td>men</td>\n",
       "      <td>164</td>\n",
       "      <td>72.0</td>\n",
       "      <td>130</td>\n",
       "      <td>90</td>\n",
       "      <td>above normal</td>\n",
       "      <td>normal</td>\n",
       "      <td>no</td>\n",
       "      <td>no</td>\n",
       "      <td>si</td>\n",
       "      <td>0</td>\n",
       "    </tr>\n",
       "  </tbody>\n",
       "</table>\n",
       "</div>"
      ],
      "text/plain": [
       "          id    age gender  height  weight  ap_hi  ap_lo   cholesterol  \\\n",
       "22105  31576  16712    men     163    67.0    110     80        normal   \n",
       "25111  35854  16801  women     151    52.0    180     90  above normal   \n",
       "21491  30701  15304  women     157    55.0    120     80        normal   \n",
       "65034  92820  20476  women     155   100.0    160     80        normal   \n",
       "55288  78867  20427    men     164    72.0    130     90  above normal   \n",
       "\n",
       "               gluc smoke alco active  cardio  \n",
       "22105        normal    no   no     no       1  \n",
       "25111  above normal    no   no     no       0  \n",
       "21491        normal    no   no     si       0  \n",
       "65034  above normal    no   no     no       1  \n",
       "55288        normal    no   no     si       0  "
      ]
     },
     "execution_count": 806,
     "metadata": {},
     "output_type": "execute_result"
    }
   ],
   "source": [
    "df_no = df[df['cardio'] == 0]\n",
    "df_yes = df[df['cardio'] == 1]\n",
    "# reducimos el tamaño de datos a usar de 'no' igualandolo al de los 'si'\n",
    "df_no_reduced = df_no.sample(df_yes.shape[0],random_state=103)\n",
    "df_reduced = pd.concat([df_no_reduced,df_yes],axis=0)\n",
    "# mezclamos los datos y dando el parámetro frac=1 para indicar que el número de datos sea el mismo\n",
    "df_reduced = df_reduced.sample(frac=1,random_state=103)\n",
    "df_reduced.head()"
   ]
  },
  {
   "cell_type": "code",
   "execution_count": 807,
   "metadata": {},
   "outputs": [
    {
     "data": {
      "text/plain": [
       "1    34979\n",
       "0    34979\n",
       "Name: cardio, dtype: int64"
      ]
     },
     "execution_count": 807,
     "metadata": {},
     "output_type": "execute_result"
    }
   ],
   "source": [
    "df_reduced.cardio.value_counts()"
   ]
  },
  {
   "cell_type": "markdown",
   "metadata": {},
   "source": [
    "## Variable 'weight'"
   ]
  },
  {
   "cell_type": "markdown",
   "metadata": {},
   "source": [
    "Spliting"
   ]
  },
  {
   "cell_type": "code",
   "execution_count": 808,
   "metadata": {},
   "outputs": [],
   "source": [
    "# Tomamos primero la columna con los datos del peso\n",
    "X = df_reduced['weight'].values.reshape(-1, 1)\n",
    "y = df_reduced['cardio']\n",
    "\n",
    "X_train, X_test, y_train, y_test = train_test_split(X, y, test_size=0.33, random_state=103)"
   ]
  },
  {
   "cell_type": "code",
   "execution_count": 809,
   "metadata": {},
   "outputs": [
    {
     "name": "stdout",
     "output_type": "stream",
     "text": [
      "Score train:  0.5758144695013975\n",
      "Score test:  0.5763849785593624\n",
      "Probabilidades:  [0.54832164 0.50812059 0.54165091 ... 0.59440344 0.21205725 0.53496522]\n"
     ]
    },
    {
     "data": {
      "image/png": "[encoded data removed]",
      "text/plain": [
       "<Figure size 432x288 with 1 Axes>"
      ]
     },
     "metadata": {
      "needs_background": "light"
     },
     "output_type": "display_data"
    }
   ],
   "source": [
    "clf = LogisticRegression(solver='lbfgs').fit(X_train, y_train)\n",
    "y_train_hat = clf.predict(X_train)\n",
    "y_test_hat = clf.predict(X_test)\n",
    "\n",
    "print(\"Score train: \", clf.score(X_train,y_train))\n",
    "print(\"Score test: \", clf.score(X_test,y_test))\n",
    "pro = clf.predict_proba(X_train)[:,0]\n",
    "print(\"Probabilidades: \", pro)\n",
    "\n",
    "import matplotlib.pyplot as plt\n",
    "plt.scatter(X_train,pro);\n",
    "plt.title('Modelo de regresión logística / weight-cardio')\n",
    "plt.xlabel('Peso')\n",
    "plt.ylabel('Cardiopatía')\n",
    "\n",
    "plt.savefig(\"weight_regression.png\")"
   ]
  },
  {
   "cell_type": "code",
   "execution_count": 810,
   "metadata": {},
   "outputs": [
    {
     "name": "stdout",
     "output_type": "stream",
     "text": [
      "accuracy_score:  0.5763849785593624\n",
      "              precision    recall  f1-score   support\n",
      "\n",
      "           0       0.57      0.64      0.60     11507\n",
      "           1       0.59      0.51      0.55     11580\n",
      "\n",
      "    accuracy                           0.58     23087\n",
      "   macro avg       0.58      0.58      0.57     23087\n",
      "weighted avg       0.58      0.58      0.57     23087\n",
      "\n"
     ]
    },
    {
     "data": {
      "image/png": "[encoded data removed]",
      "text/plain": [
       "<Figure size 432x288 with 2 Axes>"
      ]
     },
     "metadata": {
      "needs_background": "light"
     },
     "output_type": "display_data"
    }
   ],
   "source": [
    "from sklearn.metrics import confusion_matrix\n",
    "# ESPECIFICAMOS LAS ETIQUETAS QUE VAMOS A USAR PARA CLASIFICAR VERDADERO O FALSO\n",
    "labels = [0, 1]\n",
    "confusion_matrix(y_train,y_train_hat, labels = labels)\n",
    "\n",
    "import seaborn as sns\n",
    "cm = confusion_matrix(y_test,y_test_hat,labels)\n",
    "sns.heatmap(cm, # PASAMOS LOS DATOS GENERADOS\n",
    "annot=True, # QUEREMOS QUE HAGA ANOTACIONES (PONGA EL VALOR EN LAS CELDAS)\n",
    "fmt='d', # FORMATO EN DIGITOS NO FLOTANTES\n",
    "xticklabels=labels,\n",
    "yticklabels=labels,\n",
    "cmap='Greens')\n",
    "plt.title('Matriz de confusión / weight-cardio')\n",
    "plt.ylabel('Predicted')\n",
    "plt.xlabel('Actual');\n",
    "\n",
    "from sklearn.metrics import classification_report\n",
    "from sklearn.metrics import accuracy_score\n",
    "print(\"accuracy_score: \", accuracy_score(y_test,y_test_hat))\n",
    "print(classification_report(y_test,y_test_hat))\n",
    "\n",
    "plt.savefig(\"weight_confusion_matrix.png\")"
   ]
  },
  {
   "cell_type": "code",
   "execution_count": 811,
   "metadata": {},
   "outputs": [
    {
     "data": {
      "text/plain": [
       "0    35021\n",
       "1    34979\n",
       "Name: cardio, dtype: int64"
      ]
     },
     "execution_count": 811,
     "metadata": {},
     "output_type": "execute_result"
    }
   ],
   "source": [
    "cap_X = df['weight'].values.reshape(-1,1)\n",
    "df.cardio.value_counts()"
   ]
  },
  {
   "cell_type": "markdown",
   "metadata": {},
   "source": [
    "Observamos que del total de pacinentes 35021 no tienen cardiopatia frenta a 34979 que si tienen. La proporción es de 35021/34979 del 0.99%, prácticamente existen que de cada 10 pacientes, 5 tendrán y 5 no tendrán cardiopatía."
   ]
  },
  {
   "cell_type": "code",
   "execution_count": 812,
   "metadata": {},
   "outputs": [
    {
     "data": {
      "image/png": "[encoded data removed]",
      "text/plain": [
       "<Figure size 720x432 with 1 Axes>"
      ]
     },
     "metadata": {
      "needs_background": "light"
     },
     "output_type": "display_data"
    }
   ],
   "source": [
    "from sklearn.metrics import roc_curve, roc_auc_score\n",
    "\n",
    "plt.figure(figsize = (10, 6))\n",
    "plt.plot([0,1], [0,1], 'r--') # dibujamos una diagonal que nos marcarán el comportamiento promedio\n",
    "\n",
    "# calulamos la predicción de que la probabilidad sea 1 o 0 de los datos de prueba\n",
    "probs = clf.predict_proba(X_test)\n",
    "\n",
    "probs = probs[:, 1] # cogemos solo los que tenga probabilidad 1 (es lo que nos interesa ver)\n",
    "# usamos la función roc_curve pasándole los 'y' de prueba y las probabilidades calculadas\n",
    "fpr, tpr, thresholds = roc_curve(y_test,probs)\n",
    "# calculamos la precision de nuestro modelo\n",
    "roc_auc = roc_auc_score(y_test, y_test_hat)\n",
    "\n",
    "label = 'AUC:' + ' {0:.2f}'.format(roc_auc)\n",
    "# calculamos los parámetros necesarios\n",
    "plt.plot(fpr, tpr, c = 'g', label = label, linewidth = 4)\n",
    "plt.xlabel('FPR', fontsize = 16)\n",
    "plt.ylabel('TPR', fontsize = 16)\n",
    "plt.title('ROC / weight-cardio', fontsize = 16)\n",
    "plt.legend();\n",
    "\n",
    "plt.savefig(\"weight_ROC.png\")"
   ]
  },
  {
   "cell_type": "markdown",
   "metadata": {},
   "source": [
    "La precisión de 0.58 indica que nuestro modelo no es muy bueno."
   ]
  },
  {
   "cell_type": "code",
   "execution_count": 813,
   "metadata": {},
   "outputs": [
    {
     "data": {
      "image/png": "[encoded data removed]",
      "text/plain": [
       "<Figure size 720x432 with 1 Axes>"
      ]
     },
     "metadata": {
      "needs_background": "light"
     },
     "output_type": "display_data"
    }
   ],
   "source": [
    "plt.figure(figsize = (10, 6))\n",
    "plt.plot([0,70000], [0,35000], 'r--');\n",
    "\n",
    "perfect_model = np.cumsum(np.repeat(1,35000))\n",
    "\n",
    "perfect_model.resize(70000)\n",
    "perfect_model[35000:] = 35000\n",
    "perfect_model\n",
    "plt.plot(perfect_model);\n",
    "\n",
    "df['probs'] = clf.predict_proba(cap_X)[:, 1] \n",
    "\n",
    "df = df.sort_values(by='probs',ascending=False)\n",
    "df.head()\n",
    "\n",
    "probs = np.cumsum(df.cardio).values\n",
    "probs\n",
    "plt.plot(probs,c = 'g', label = label, linewidth = 4);\n",
    "\n",
    "plt.xlabel('Peso', fontsize = 16)\n",
    "plt.ylabel('Cardiopatías (casos si)', fontsize = 16)\n",
    "plt.title('CAP / weight-cardio', fontsize = 16)\n",
    "\n",
    "plt.axvline(x=35000, color='g', linestyle='--',alpha=0.5)\n",
    "plt.axhline(y=probs[34999], color='g', linestyle='--',alpha=0.5);\n",
    "\n",
    "probs[499]\n",
    "\n",
    "plt.savefig(\"weight_CAP.png\")"
   ]
  },
  {
   "cell_type": "markdown",
   "metadata": {},
   "source": [
    "Podemos observar en la gráfica que cuando hemos atendido a la mitad de paciencientes ya hemos conseguido en torno al 57% de los casos que tendrñan cardiopatías con lo que el test es equivalente a aleatorio o peor."
   ]
  },
  {
   "cell_type": "markdown",
   "metadata": {},
   "source": [
    "## Variable 'ap_hi'\n",
    "Spliting"
   ]
  },
  {
   "cell_type": "code",
   "execution_count": 814,
   "metadata": {},
   "outputs": [],
   "source": [
    "# Tomamos primero la columna con los datos del ap_hi\n",
    "X = df_reduced['ap_hi'].values.reshape(-1, 1)\n",
    "y = df_reduced['cardio']\n",
    "\n",
    "X_train, X_test, y_train, y_test = train_test_split(X, y, test_size=0.33, random_state=103)"
   ]
  },
  {
   "cell_type": "code",
   "execution_count": 815,
   "metadata": {},
   "outputs": [
    {
     "name": "stdout",
     "output_type": "stream",
     "text": [
      "Score train:  0.7143009536813808\n",
      "Score test:  0.711829167930004\n",
      "Probabilidades:  [0.34666705 0.34666705 0.34666705 ... 0.45811114 0.04914498 0.57391045]\n"
     ]
    },
    {
     "data": {
      "image/png": "[encoded data removed]",
      "text/plain": [
       "<Figure size 432x288 with 1 Axes>"
      ]
     },
     "metadata": {
      "needs_background": "light"
     },
     "output_type": "display_data"
    }
   ],
   "source": [
    "clf = LogisticRegression(solver='lbfgs').fit(X_train, y_train)\n",
    "y_train_hat = clf.predict(X_train)\n",
    "y_test_hat = clf.predict(X_test)\n",
    "\n",
    "print(\"Score train: \", clf.score(X_train,y_train))\n",
    "print(\"Score test: \", clf.score(X_test,y_test))\n",
    "pro = clf.predict_proba(X_train)[:,0]\n",
    "print(\"Probabilidades: \", pro)\n",
    "\n",
    "plt.scatter(X_train,pro);\n",
    "plt.title('Modelo de regresión logística / ap_hi-cardio')\n",
    "plt.xlabel('Presión arterial sistólica')\n",
    "plt.ylabel('Cardiopatía')\n",
    "\n",
    "plt.savefig(\"ap_hi_regression.png\")"
   ]
  },
  {
   "cell_type": "code",
   "execution_count": 816,
   "metadata": {},
   "outputs": [
    {
     "name": "stdout",
     "output_type": "stream",
     "text": [
      "accuracy_score:  0.711829167930004\n",
      "              precision    recall  f1-score   support\n",
      "\n",
      "           0       0.68      0.80      0.73     11507\n",
      "           1       0.76      0.62      0.68     11580\n",
      "\n",
      "    accuracy                           0.71     23087\n",
      "   macro avg       0.72      0.71      0.71     23087\n",
      "weighted avg       0.72      0.71      0.71     23087\n",
      "\n"
     ]
    },
    {
     "data": {
      "image/png": "[encoded data removed]",
      "text/plain": [
       "<Figure size 432x288 with 2 Axes>"
      ]
     },
     "metadata": {
      "needs_background": "light"
     },
     "output_type": "display_data"
    }
   ],
   "source": [
    "labels = [0, 1]\n",
    "confusion_matrix(y_train,y_train_hat, labels = labels)\n",
    "\n",
    "cm = confusion_matrix(y_test,y_test_hat,labels)\n",
    "sns.heatmap(cm, # PASAMOS LOS DATOS GENERADOS\n",
    "annot=True, # QUEREMOS QUE HAGA ANOTACIONES (PONGA EL VALOR EN LAS CELDAS)\n",
    "fmt='d', # FORMATO EN DIGITOS NO FLOTANTES\n",
    "xticklabels=labels,\n",
    "yticklabels=labels,\n",
    "cmap='Greens')\n",
    "plt.title('Matriz de confusión / ap_hi-cardio')\n",
    "plt.ylabel('Predicted')\n",
    "plt.xlabel('Actual');\n",
    "\n",
    "print(\"accuracy_score: \", accuracy_score(y_test,y_test_hat))\n",
    "print(classification_report(y_test,y_test_hat))\n",
    "\n",
    "plt.savefig(\"ap_hi_confusion_matrix.png\")"
   ]
  },
  {
   "cell_type": "code",
   "execution_count": 817,
   "metadata": {},
   "outputs": [
    {
     "data": {
      "text/plain": [
       "0    35021\n",
       "1    34979\n",
       "Name: cardio, dtype: int64"
      ]
     },
     "execution_count": 817,
     "metadata": {},
     "output_type": "execute_result"
    }
   ],
   "source": [
    "cap_X = df['ap_hi'].values.reshape(-1,1)\n",
    "df.cardio.value_counts()"
   ]
  },
  {
   "cell_type": "code",
   "execution_count": 818,
   "metadata": {},
   "outputs": [
    {
     "data": {
      "image/png": "[encoded data removed]",
      "text/plain": [
       "<Figure size 720x432 with 1 Axes>"
      ]
     },
     "metadata": {
      "needs_background": "light"
     },
     "output_type": "display_data"
    }
   ],
   "source": [
    "plt.figure(figsize = (10, 6))\n",
    "plt.plot([0,1], [0,1], 'r--') # dibujamos una diagonal que nos marcarán el comportamiento promedio\n",
    "\n",
    "# calulamos la predicción de que la probabilidad sea 1 o 0 de los datos de prueba\n",
    "probs = clf.predict_proba(X_test)\n",
    "\n",
    "probs = probs[:, 1] # cogemos solo los que tenga probabilidad 1 (es lo que nos interesa ver)\n",
    "# usamos la función roc_curve pasándole los 'y' de prueba y las probabilidades calculadas\n",
    "fpr, tpr, thresholds = roc_curve(y_test,probs)\n",
    "# calculamos la precision de nuestro modelo\n",
    "roc_auc = roc_auc_score(y_test, y_test_hat)\n",
    "\n",
    "label = 'AUC:' + ' {0:.2f}'.format(roc_auc)\n",
    "# calculamos los parámetros necesarios\n",
    "plt.plot(fpr, tpr, c = 'g', label = label, linewidth = 4)\n",
    "plt.xlabel('FPR', fontsize = 16)\n",
    "plt.ylabel('TPR', fontsize = 16)\n",
    "plt.title('ROC / ap_hi-cardio', fontsize = 16)\n",
    "plt.legend();\n",
    "\n",
    "plt.savefig(\"ap_hi_ROC.png\")"
   ]
  },
  {
   "cell_type": "markdown",
   "metadata": {},
   "source": [
    "La precisión de 0.71 indica que nuestro modelo es regular."
   ]
  },
  {
   "cell_type": "code",
   "execution_count": 819,
   "metadata": {},
   "outputs": [
    {
     "data": {
      "image/png": "[encoded data removed]",
      "text/plain": [
       "<Figure size 720x432 with 1 Axes>"
      ]
     },
     "metadata": {
      "needs_background": "light"
     },
     "output_type": "display_data"
    }
   ],
   "source": [
    "plt.figure(figsize = (10, 6))\n",
    "plt.plot([0,70000], [0,35000], 'r--');\n",
    "\n",
    "perfect_model = np.cumsum(np.repeat(1,35000))\n",
    "\n",
    "perfect_model.resize(70000)\n",
    "perfect_model[35000:] = 35000\n",
    "perfect_model\n",
    "plt.plot(perfect_model);\n",
    "\n",
    "df['probs'] = clf.predict_proba(cap_X)[:, 1] \n",
    "\n",
    "df = df.sort_values(by='probs',ascending=False)\n",
    "df.head()\n",
    "\n",
    "probs = np.cumsum(df.cardio).values\n",
    "probs\n",
    "plt.plot(probs,c = 'g', label = label, linewidth = 4);\n",
    "\n",
    "plt.xlabel('Presión arterial sistólica', fontsize = 16)\n",
    "plt.ylabel('Cardiopatías (casos si)', fontsize = 16)\n",
    "plt.title('CAP / ap_hi-cardio', fontsize = 16)\n",
    "\n",
    "plt.axvline(x=35000, color='g', linestyle='--',alpha=0.5)\n",
    "plt.axhline(y=probs[34999], color='g', linestyle='--',alpha=0.5);\n",
    "\n",
    "probs[499]\n",
    "\n",
    "plt.savefig(\"ap_hi_CAP.png\")"
   ]
  },
  {
   "cell_type": "markdown",
   "metadata": {},
   "source": [
    "Podemos observar en la gráfica que cuando hemos atendido a la mitad de paciencientes ya hemos conseguido en torno al 68% de los casos que tendrñan cardiopatías con lo que el test se puede decir que no es bueno."
   ]
  },
  {
   "cell_type": "markdown",
   "metadata": {},
   "source": [
    "## Variable 'ap_hi'\n",
    "Spliting"
   ]
  },
  {
   "cell_type": "code",
   "execution_count": 820,
   "metadata": {},
   "outputs": [],
   "source": [
    "# Tomamos primero la columna con los datos del ap_hi\n",
    "X = df_reduced['ap_lo'].values.reshape(-1, 1)\n",
    "y = df_reduced['cardio']\n",
    "\n",
    "X_train, X_test, y_train, y_test = train_test_split(X, y, test_size=0.33, random_state=103)"
   ]
  },
  {
   "cell_type": "code",
   "execution_count": 821,
   "metadata": {},
   "outputs": [
    {
     "name": "stdout",
     "output_type": "stream",
     "text": [
      "Score train:  0.5574022316571015\n",
      "Score test:  0.5585827521982067\n",
      "Probabilidades:  [0.50148717 0.50148717 0.50666888 ... 0.50666888 0.49682332 0.50666888]\n"
     ]
    },
    {
     "data": {
      "image/png": "[encoded data removed]",
      "text/plain": [
       "<Figure size 432x288 with 1 Axes>"
      ]
     },
     "metadata": {
      "needs_background": "light"
     },
     "output_type": "display_data"
    }
   ],
   "source": [
    "clf = LogisticRegression(solver='lbfgs').fit(X_train, y_train)\n",
    "y_train_hat = clf.predict(X_train)\n",
    "y_test_hat = clf.predict(X_test)\n",
    "\n",
    "print(\"Score train: \", clf.score(X_train,y_train))\n",
    "print(\"Score test: \", clf.score(X_test,y_test))\n",
    "pro = clf.predict_proba(X_train)[:,0]\n",
    "print(\"Probabilidades: \", pro)\n",
    "\n",
    "plt.scatter(X_train,pro);\n",
    "plt.title('Modelo de regresión logística / ap_lo-cardio')\n",
    "plt.xlabel('Presión arterial diastólica')\n",
    "plt.ylabel('Cardiopatía')\n",
    "\n",
    "plt.savefig(\"ap_lo_regression.png\")"
   ]
  },
  {
   "cell_type": "code",
   "execution_count": 822,
   "metadata": {},
   "outputs": [
    {
     "name": "stdout",
     "output_type": "stream",
     "text": [
      "accuracy_score:  0.5585827521982067\n",
      "              precision    recall  f1-score   support\n",
      "\n",
      "           0       0.53      0.97      0.69     11507\n",
      "           1       0.84      0.15      0.25     11580\n",
      "\n",
      "    accuracy                           0.56     23087\n",
      "   macro avg       0.68      0.56      0.47     23087\n",
      "weighted avg       0.68      0.56      0.47     23087\n",
      "\n"
     ]
    },
    {
     "data": {
      "image/png": "[encoded data removed]",
      "text/plain": [
       "<Figure size 432x288 with 2 Axes>"
      ]
     },
     "metadata": {
      "needs_background": "light"
     },
     "output_type": "display_data"
    }
   ],
   "source": [
    "labels = [0, 1]\n",
    "confusion_matrix(y_train,y_train_hat, labels = labels)\n",
    "\n",
    "cm = confusion_matrix(y_test,y_test_hat,labels)\n",
    "sns.heatmap(cm, # PASAMOS LOS DATOS GENERADOS\n",
    "annot=True, # QUEREMOS QUE HAGA ANOTACIONES (PONGA EL VALOR EN LAS CELDAS)\n",
    "fmt='d', # FORMATO EN DIGITOS NO FLOTANTES\n",
    "xticklabels=labels,\n",
    "yticklabels=labels,\n",
    "cmap='Greens')\n",
    "plt.title('Matriz de confusión / ap_lo-cardio')\n",
    "plt.ylabel('Predicted')\n",
    "plt.xlabel('Actual');\n",
    "\n",
    "print(\"accuracy_score: \", accuracy_score(y_test,y_test_hat))\n",
    "print(classification_report(y_test,y_test_hat))\n",
    "\n",
    "plt.savefig(\"ap_lo_confusion_matrix.png\")"
   ]
  },
  {
   "cell_type": "code",
   "execution_count": 823,
   "metadata": {},
   "outputs": [
    {
     "data": {
      "text/plain": [
       "0    35021\n",
       "1    34979\n",
       "Name: cardio, dtype: int64"
      ]
     },
     "execution_count": 823,
     "metadata": {},
     "output_type": "execute_result"
    }
   ],
   "source": [
    "cap_X = df['ap_lo'].values.reshape(-1,1)\n",
    "df.cardio.value_counts()"
   ]
  },
  {
   "cell_type": "code",
   "execution_count": 824,
   "metadata": {},
   "outputs": [
    {
     "data": {
      "image/png": "[encoded data removed]",
      "text/plain": [
       "<Figure size 720x432 with 1 Axes>"
      ]
     },
     "metadata": {
      "needs_background": "light"
     },
     "output_type": "display_data"
    }
   ],
   "source": [
    "plt.figure(figsize = (10, 6))\n",
    "plt.plot([0,1], [0,1], 'r--') # dibujamos una diagonal que nos marcarán el comportamiento promedio\n",
    "\n",
    "# calulamos la predicción de que la probabilidad sea 1 o 0 de los datos de prueba\n",
    "probs = clf.predict_proba(X_test)\n",
    "\n",
    "probs = probs[:, 1] # cogemos solo los que tenga probabilidad 1 (es lo que nos interesa ver)\n",
    "# usamos la función roc_curve pasándole los 'y' de prueba y las probabilidades calculadas\n",
    "fpr, tpr, thresholds = roc_curve(y_test,probs)\n",
    "# calculamos la precision de nuestro modelo\n",
    "roc_auc = roc_auc_score(y_test, y_test_hat)\n",
    "\n",
    "label = 'AUC:' + ' {0:.2f}'.format(roc_auc)\n",
    "# calculamos los parámetros necesarios\n",
    "plt.plot(fpr, tpr, c = 'g', label = label, linewidth = 4)\n",
    "plt.xlabel('FPR', fontsize = 16)\n",
    "plt.ylabel('TPR', fontsize = 16)\n",
    "plt.title('ROC / ap_lo-cardio', fontsize = 16)\n",
    "plt.legend();\n",
    "\n",
    "plt.savefig(\"ap_lo_ROC.png\")"
   ]
  },
  {
   "cell_type": "markdown",
   "metadata": {},
   "source": [
    "La precisión de 0.56 indica que nuestro modelo es malo."
   ]
  },
  {
   "cell_type": "code",
   "execution_count": 825,
   "metadata": {
    "scrolled": true
   },
   "outputs": [
    {
     "data": {
      "image/png": "[encoded data removed]",
      "text/plain": [
       "<Figure size 720x432 with 1 Axes>"
      ]
     },
     "metadata": {
      "needs_background": "light"
     },
     "output_type": "display_data"
    }
   ],
   "source": [
    "plt.figure(figsize = (10, 6))\n",
    "plt.plot([0,70000], [0,35000], 'r--');\n",
    "\n",
    "perfect_model = np.cumsum(np.repeat(1,35000))\n",
    "\n",
    "perfect_model.resize(70000)\n",
    "perfect_model[35000:] = 35000\n",
    "perfect_model\n",
    "plt.plot(perfect_model);\n",
    "\n",
    "df['probs'] = clf.predict_proba(cap_X)[:, 1] \n",
    "\n",
    "df = df.sort_values(by='probs',ascending=False)\n",
    "df.head()\n",
    "\n",
    "probs = np.cumsum(df.cardio).values\n",
    "probs\n",
    "plt.plot(probs,c = 'g', label = label, linewidth = 4);\n",
    "\n",
    "plt.xlabel('Presión arterial diastólica', fontsize = 16)\n",
    "plt.ylabel('Cardiopatías (casos si)', fontsize = 16)\n",
    "plt.title('CAP / ap_lo-cardio', fontsize = 16)\n",
    "\n",
    "plt.axvline(x=35000, color='g', linestyle='--',alpha=0.5)\n",
    "plt.axhline(y=probs[34999], color='g', linestyle='--',alpha=0.5);\n",
    "\n",
    "probs[499]\n",
    "\n",
    "plt.savefig(\"ap_lo_CAP.png\")"
   ]
  },
  {
   "cell_type": "markdown",
   "metadata": {},
   "source": [
    "Podemos observar en la gráfica que cuando hemos atendido a la mitad de pacientes ya hemos conseguido en torno al 60% de los casos que tendrán cardiopatías con lo que el test se puede decir que es malo."
   ]
  },
  {
   "cell_type": "code",
   "execution_count": null,
   "metadata": {},
   "outputs": [],
   "source": []
  }
 ],
 "metadata": {
  "kernelspec": {
   "display_name": "Python 3",
   "language": "python",
   "name": "python3"
  },
  "language_info": {
   "codemirror_mode": {
    "name": "ipython",
    "version": 3
   },
   "file_extension": ".py",
   "mimetype": "text/x-python",
   "name": "python",
   "nbconvert_exporter": "python",
   "pygments_lexer": "ipython3",
   "version": "3.7.3"
  }
 },
 "nbformat": 4,
 "nbformat_minor": 2
}
